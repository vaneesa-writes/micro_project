{
  "nbformat": 4,
  "nbformat_minor": 0,
  "metadata": {
    "colab": {
      "name": "MNIST-fashion.ipynb",
      "provenance": [],
      "collapsed_sections": [],
      "authorship_tag": "ABX9TyOXjlw9gR1Aqh41HyEbnt/0",
      "include_colab_link": true
    },
    "kernelspec": {
      "name": "python3",
      "display_name": "Python 3"
    },
    "language_info": {
      "name": "python"
    }
  },
  "cells": [
    {
      "cell_type": "markdown",
      "metadata": {
        "id": "view-in-github",
        "colab_type": "text"
      },
      "source": [
        "<a href=\"https://colab.research.google.com/github/vaneesa-writes/micro_project/blob/main/MNIST_fashion.ipynb\" target=\"_parent\"><img src=\"https://colab.research.google.com/assets/colab-badge.svg\" alt=\"Open In Colab\"/></a>"
      ]
    },
    {
      "cell_type": "code",
      "metadata": {
        "id": "HQ9XaTpbVUcj"
      },
      "source": [
        "import tensorflow as tf\n",
        "import matplotlib.pyplot as plt\n",
        "import numpy as np"
      ],
      "execution_count": 1,
      "outputs": []
    },
    {
      "cell_type": "code",
      "metadata": {
        "colab": {
          "base_uri": "https://localhost:8080/"
        },
        "id": "FfB4pVMXVka6",
        "outputId": "617fc945-03b3-44b3-ba5d-36d19d565473"
      },
      "source": [
        "(x_train, y_train), (x_test, y_test) = tf.keras.datasets.fashion_mnist.load_data()"
      ],
      "execution_count": 2,
      "outputs": [
        {
          "output_type": "stream",
          "name": "stdout",
          "text": [
            "Downloading data from https://storage.googleapis.com/tensorflow/tf-keras-datasets/train-labels-idx1-ubyte.gz\n",
            "32768/29515 [=================================] - 0s 0us/step\n",
            "40960/29515 [=========================================] - 0s 0us/step\n",
            "Downloading data from https://storage.googleapis.com/tensorflow/tf-keras-datasets/train-images-idx3-ubyte.gz\n",
            "26427392/26421880 [==============================] - 0s 0us/step\n",
            "26435584/26421880 [==============================] - 0s 0us/step\n",
            "Downloading data from https://storage.googleapis.com/tensorflow/tf-keras-datasets/t10k-labels-idx1-ubyte.gz\n",
            "16384/5148 [===============================================================================================] - 0s 0us/step\n",
            "Downloading data from https://storage.googleapis.com/tensorflow/tf-keras-datasets/t10k-images-idx3-ubyte.gz\n",
            "4423680/4422102 [==============================] - 0s 0us/step\n",
            "4431872/4422102 [==============================] - 0s 0us/step\n"
          ]
        }
      ]
    },
    {
      "cell_type": "code",
      "metadata": {
        "id": "gHF3VxnFV9aE",
        "colab": {
          "base_uri": "https://localhost:8080/"
        },
        "outputId": "df450aaf-107f-46f6-d3f3-a67f1e84c989"
      },
      "source": [
        "print(x_train.shape,y_train.shape)\n",
        "print(x_test.shape,y_test.shape)"
      ],
      "execution_count": 3,
      "outputs": [
        {
          "output_type": "stream",
          "name": "stdout",
          "text": [
            "(60000, 28, 28) (60000,)\n",
            "(10000, 28, 28) (10000,)\n"
          ]
        }
      ]
    },
    {
      "cell_type": "code",
      "source": [
        "label_names = {0 :\"T-shirt/top\",\n",
        "1 :\"Trouser\",\n",
        "2 :\"Pullover\",\n",
        "3:\" Dress\",\n",
        "4 :\"Coat\",\n",
        "5 :\"Sandal\",\n",
        "6 :\"Shirt\",\n",
        "7 :\"Sneaker\",\n",
        "8 :\"Bag\",\n",
        "9 :\"Ankle boot\"}"
      ],
      "metadata": {
        "id": "DSgrAH9o-hZA"
      },
      "execution_count": 4,
      "outputs": []
    },
    {
      "cell_type": "code",
      "source": [
        "def drawimg(img,ind,i):\n",
        "  plt.figure(i+1)\n",
        "  plt.style.use(\"seaborn\")\n",
        "  plt.axis('off')\n",
        "  plt.imshow(x_train[ind],cmap='gray')\n",
        "  plt.title(label_names[ind])\n",
        "  plt.show()"
      ],
      "metadata": {
        "id": "o8SrLLI9-_Gp"
      },
      "execution_count": 5,
      "outputs": []
    },
    {
      "cell_type": "code",
      "source": [
        "for i in range(3):\n",
        "  ind = np.random.randint(60000)\n",
        "  drawimg(x_train[ind],y_train[ind],i)"
      ],
      "metadata": {
        "colab": {
          "base_uri": "https://localhost:8080/",
          "height": 919
        },
        "id": "x_sN5TlJ--4x",
        "outputId": "3628dff3-47df-4679-8e53-9a2108cd68bc"
      },
      "execution_count": 6,
      "outputs": [
        {
          "output_type": "display_data",
          "data": {
            "image/png": "[encoded data removed]",
            "text/plain": [
              "<Figure size 432x288 with 1 Axes>"
            ]
          },
          "metadata": {
            "needs_background": "light"
          }
        },
        {
          "output_type": "display_data",
          "data": {
            "image/png": "[encoded data removed]",
            "text/plain": [
              "<Figure size 576x396 with 1 Axes>"
            ]
          },
          "metadata": {}
        },
        {
          "output_type": "display_data",
          "data": {
            "image/png": "[encoded data removed]",
            "text/plain": [
              "<Figure size 576x396 with 1 Axes>"
            ]
          },
          "metadata": {}
        }
      ]
    },
    {
      "cell_type": "code",
      "source": [
        "x_train = x_train.astype('float32')/255\n",
        "x_test = x_test.astype('float32')/255"
      ],
      "metadata": {
        "id": "5ErVgVQ5--sR"
      },
      "execution_count": 7,
      "outputs": []
    },
    {
      "cell_type": "code",
      "source": [
        "x_train = x_train.reshape((-1,28,28,1))\n",
        "y_train = tf.keras.utils.to_categorical(y_train)"
      ],
      "metadata": {
        "id": "GYUYYMAceRED"
      },
      "execution_count": 8,
      "outputs": []
    },
    {
      "cell_type": "code",
      "source": [
        "x_test = x_test.reshape((-1,28,28,1))\n",
        "y_test = tf.keras.utils.to_categorical(y_test)"
      ],
      "metadata": {
        "id": "7W7qZklhdQvJ"
      },
      "execution_count": 9,
      "outputs": []
    },
    {
      "cell_type": "code",
      "source": [
        "import tensorflow.keras.backend as K\n",
        "from tensorflow.keras.layers import (Input, Conv2D, MaxPooling2D, Flatten, \n",
        "                                     Dense, Dropout, BatchNormalization)\n",
        "from tensorflow.keras.models import Sequential\n",
        "from tensorflow.keras.optimizers import Adam\n",
        "from tensorflow.keras import regularizers\n"
      ],
      "metadata": {
        "id": "ZIv_BhFNdBuG"
      },
      "execution_count": 10,
      "outputs": []
    },
    {
      "cell_type": "code",
      "metadata": {
        "id": "-yIqSu6PVm4-"
      },
      "source": [
        "model = Sequential([\n",
        "        Conv2D(64, kernel_size=(3, 3), activation='relu', padding='same', \n",
        "               input_shape=(28, 28, 1)),\n",
        "        BatchNormalization(),\n",
        "        Conv2D(64, kernel_size=(3, 3), activation='relu'),\n",
        "        BatchNormalization(),\n",
        "        MaxPooling2D(pool_size=(2, 2)),\n",
        "\n",
        "        Conv2D(128, kernel_size=(3, 3), activation='relu', padding='same'),\n",
        "        BatchNormalization(),\n",
        "        Conv2D(128, kernel_size=(3, 3), activation='relu'),\n",
        "        BatchNormalization(),        \n",
        "        MaxPooling2D(pool_size=(2, 2)),\n",
        "        \n",
        "        Conv2D(256, kernel_size=(3, 3), activation='relu', padding='same'),\n",
        "        BatchNormalization(),\n",
        "        Conv2D(256, kernel_size=(3, 3), activation='relu'),\n",
        "        BatchNormalization(),    \n",
        "        MaxPooling2D(pool_size=(2, 2)),   \n",
        "        \n",
        "        Flatten(),\n",
        "        \n",
        "        Dense(1024, activation='relu'),\n",
        "        \n",
        "        Dense(512, activation='relu'),\n",
        "        \n",
        "        Dense(10, activation='softmax')\n",
        "    ])\n"
      ],
      "execution_count": 11,
      "outputs": []
    },
    {
      "cell_type": "code",
      "source": [
        "model.summary()"
      ],
      "metadata": {
        "colab": {
          "base_uri": "https://localhost:8080/"
        },
        "id": "LJMUM-0CFqSn",
        "outputId": "cbf1c56d-491d-4e6f-a079-b3eb3b652726"
      },
      "execution_count": 12,
      "outputs": [
        {
          "output_type": "stream",
          "name": "stdout",
          "text": [
            "Model: \"sequential\"\n",
            "_________________________________________________________________\n",
            " Layer (type)                Output Shape              Param #   \n",
            "=================================================================\n",
            " conv2d (Conv2D)             (None, 28, 28, 64)        640       \n",
            "                                                                 \n",
            " batch_normalization (BatchN  (None, 28, 28, 64)       256       \n",
            " ormalization)                                                   \n",
            "                                                                 \n",
            " conv2d_1 (Conv2D)           (None, 26, 26, 64)        36928     \n",
            "                                                                 \n",
            " batch_normalization_1 (Batc  (None, 26, 26, 64)       256       \n",
            " hNormalization)                                                 \n",
            "                                                                 \n",
            " max_pooling2d (MaxPooling2D  (None, 13, 13, 64)       0         \n",
            " )                                                               \n",
            "                                                                 \n",
            " conv2d_2 (Conv2D)           (None, 13, 13, 128)       73856     \n",
            "                                                                 \n",
            " batch_normalization_2 (Batc  (None, 13, 13, 128)      512       \n",
            " hNormalization)                                                 \n",
            "                                                                 \n",
            " conv2d_3 (Conv2D)           (None, 11, 11, 128)       147584    \n",
            "                                                                 \n",
            " batch_normalization_3 (Batc  (None, 11, 11, 128)      512       \n",
            " hNormalization)                                                 \n",
            "                                                                 \n",
            " max_pooling2d_1 (MaxPooling  (None, 5, 5, 128)        0         \n",
            " 2D)                                                             \n",
            "                                                                 \n",
            " conv2d_4 (Conv2D)           (None, 5, 5, 256)         295168    \n",
            "                                                                 \n",
            " batch_normalization_4 (Batc  (None, 5, 5, 256)        1024      \n",
            " hNormalization)                                                 \n",
            "                                                                 \n",
            " conv2d_5 (Conv2D)           (None, 3, 3, 256)         590080    \n",
            "                                                                 \n",
            " batch_normalization_5 (Batc  (None, 3, 3, 256)        1024      \n",
            " hNormalization)                                                 \n",
            "                                                                 \n",
            " max_pooling2d_2 (MaxPooling  (None, 1, 1, 256)        0         \n",
            " 2D)                                                             \n",
            "                                                                 \n",
            " flatten (Flatten)           (None, 256)               0         \n",
            "                                                                 \n",
            " dense (Dense)               (None, 1024)              263168    \n",
            "                                                                 \n",
            " dense_1 (Dense)             (None, 512)               524800    \n",
            "                                                                 \n",
            " dense_2 (Dense)             (None, 10)                5130      \n",
            "                                                                 \n",
            "=================================================================\n",
            "Total params: 1,940,938\n",
            "Trainable params: 1,939,146\n",
            "Non-trainable params: 1,792\n",
            "_________________________________________________________________\n"
          ]
        }
      ]
    },
    {
      "cell_type": "code",
      "source": [
        ""
      ],
      "metadata": {
        "id": "3dX8uVIwGwFv"
      },
      "execution_count": 12,
      "outputs": []
    },
    {
      "cell_type": "code",
      "source": [
        "model.compile(loss='categorical_crossentropy',optimizer='adam',metrics=['accuracy'])"
      ],
      "metadata": {
        "id": "-rInsQinFvDs"
      },
      "execution_count": 13,
      "outputs": []
    },
    {
      "cell_type": "code",
      "source": [
        "history = model.fit(x_train,y_train,validation_split=0.3,shuffle=True,batch_size=512,epochs=10)"
      ],
      "metadata": {
        "colab": {
          "base_uri": "https://localhost:8080/"
        },
        "id": "1FqHDQ8bFvAx",
        "outputId": "07a8c22c-ff2a-476e-c82b-96f99e433221"
      },
      "execution_count": 14,
      "outputs": [
        {
          "output_type": "stream",
          "name": "stdout",
          "text": [
            "Epoch 1/10\n",
            "83/83 [==============================] - 564s 7s/step - loss: 0.4753 - accuracy: 0.8256 - val_loss: 3.0982 - val_accuracy: 0.0983\n",
            "Epoch 2/10\n",
            "83/83 [==============================] - 523s 6s/step - loss: 0.2702 - accuracy: 0.9005 - val_loss: 5.1285 - val_accuracy: 0.0983\n",
            "Epoch 3/10\n",
            "83/83 [==============================] - 529s 6s/step - loss: 0.2074 - accuracy: 0.9235 - val_loss: 7.8998 - val_accuracy: 0.0983\n",
            "Epoch 4/10\n",
            "83/83 [==============================] - 526s 6s/step - loss: 0.1929 - accuracy: 0.9271 - val_loss: 4.9074 - val_accuracy: 0.1572\n",
            "Epoch 5/10\n",
            "83/83 [==============================] - 527s 6s/step - loss: 0.1664 - accuracy: 0.9371 - val_loss: 5.4877 - val_accuracy: 0.1953\n",
            "Epoch 6/10\n",
            "83/83 [==============================] - 527s 6s/step - loss: 0.1263 - accuracy: 0.9532 - val_loss: 2.5019 - val_accuracy: 0.5288\n",
            "Epoch 7/10\n",
            "83/83 [==============================] - 527s 6s/step - loss: 0.1257 - accuracy: 0.9532 - val_loss: 0.6213 - val_accuracy: 0.8134\n",
            "Epoch 8/10\n",
            "83/83 [==============================] - 527s 6s/step - loss: 0.1007 - accuracy: 0.9620 - val_loss: 0.2832 - val_accuracy: 0.9110\n",
            "Epoch 9/10\n",
            "83/83 [==============================] - 527s 6s/step - loss: 0.0925 - accuracy: 0.9652 - val_loss: 0.3529 - val_accuracy: 0.9162\n",
            "Epoch 10/10\n",
            "83/83 [==============================] - 527s 6s/step - loss: 0.1050 - accuracy: 0.9617 - val_loss: 0.3649 - val_accuracy: 0.9050\n"
          ]
        }
      ]
    },
    {
      "cell_type": "code",
      "source": [
        "plt.style.use('dark_background')\n",
        "plt.plot(history.history['accuracy'],label = 'accuracy')\n",
        "plt.plot(history.history['val_accuracy'],label = 'val_accuracy')\n",
        "plt.legend()\n",
        "plt.show()"
      ],
      "metadata": {
        "colab": {
          "base_uri": "https://localhost:8080/",
          "height": 348
        },
        "id": "LY__Y2ZCFu3s",
        "outputId": "50548cf3-8e22-43e2-bc86-d4e689227dd0"
      },
      "execution_count": 19,
      "outputs": [
        {
          "output_type": "display_data",
          "data": {
            "image/png": "[encoded data removed]",
            "text/plain": [
              "<Figure size 576x396 with 1 Axes>"
            ]
          },
          "metadata": {}
        }
      ]
    },
    {
      "cell_type": "code",
      "source": [
        "result = model.evaluate(x_test,y_test)"
      ],
      "metadata": {
        "id": "2yuhRwbVVWQt",
        "colab": {
          "base_uri": "https://localhost:8080/"
        },
        "outputId": "ad7e3c96-9ed5-4dce-a4f4-8ffc19f7dbb5"
      },
      "execution_count": 20,
      "outputs": [
        {
          "output_type": "stream",
          "name": "stdout",
          "text": [
            "313/313 [==============================] - 28s 91ms/step - loss: 0.3764 - accuracy: 0.9019\n"
          ]
        }
      ]
    },
    {
      "cell_type": "code",
      "source": [
        "print(f\"The testing accuracy was { result[1]} and loss was {result[0]}\")"
      ],
      "metadata": {
        "colab": {
          "base_uri": "https://localhost:8080/"
        },
        "id": "U5jF4TBjhkE-",
        "outputId": "9e28a189-6d04-47ee-ed6a-fbb296214fc6"
      },
      "execution_count": 24,
      "outputs": [
        {
          "output_type": "stream",
          "name": "stdout",
          "text": [
            "The testing accuracy was %.2f 0.9018999934196472 and loss was 0.37640002369880676\n"
          ]
        }
      ]
    },
    {
      "cell_type": "code",
      "source": [
        "predicted_values = model.predict(x_test)"
      ],
      "metadata": {
        "id": "LAkmSbKOhi9k"
      },
      "execution_count": 34,
      "outputs": []
    },
    {
      "cell_type": "code",
      "source": [
        "predicted_values"
      ],
      "metadata": {
        "colab": {
          "base_uri": "https://localhost:8080/"
        },
        "id": "uDZ_rKorbPYf",
        "outputId": "f31aa7bb-04d5-4c49-9a46-e65db9d55c50"
      },
      "execution_count": 35,
      "outputs": [
        {
          "output_type": "execute_result",
          "data": {
            "text/plain": [
              "array([[1.8930842e-10, 1.8881090e-09, 6.9730363e-12, ..., 9.0761614e-06,\n",
              "        1.8120322e-10, 9.9999070e-01],\n",
              "       [2.1284375e-08, 1.2804619e-08, 9.9997151e-01, ..., 2.4254837e-10,\n",
              "        6.4474390e-09, 5.4991445e-10],\n",
              "       [1.2248084e-17, 1.0000000e+00, 3.5307936e-18, ..., 6.2923181e-21,\n",
              "        1.6740563e-18, 1.5894573e-18],\n",
              "       ...,\n",
              "       [1.4435386e-12, 1.8802386e-12, 2.3868847e-12, ..., 2.8709682e-15,\n",
              "        1.0000000e+00, 4.4736439e-15],\n",
              "       [7.7637988e-17, 1.0000000e+00, 8.8701861e-18, ..., 2.1786698e-20,\n",
              "        5.9595442e-19, 5.0954293e-18],\n",
              "       [2.8265409e-05, 3.4039178e-06, 8.6389096e-05, ..., 7.0513308e-01,\n",
              "        3.3930491e-04, 2.5148754e-04]], dtype=float32)"
            ]
          },
          "metadata": {},
          "execution_count": 35
        }
      ]
    },
    {
      "cell_type": "code",
      "source": [
        "import numpy as np\n",
        "predicted = np.argmax(predicted_values,axis=1)\n",
        "\n",
        "predicted.shape\n",
        "print(predicted)"
      ],
      "metadata": {
        "colab": {
          "base_uri": "https://localhost:8080/"
        },
        "id": "WsxrOxG9bjuN",
        "outputId": "445a1963-1fa3-492a-de74-f6f5a500bd57"
      },
      "execution_count": 37,
      "outputs": [
        {
          "output_type": "stream",
          "name": "stdout",
          "text": [
            "[9 2 1 ... 8 1 7]\n"
          ]
        }
      ]
    },
    {
      "cell_type": "code",
      "source": [
        "actual = np.argmax(y_test,axis=1)"
      ],
      "metadata": {
        "colab": {
          "base_uri": "https://localhost:8080/"
        },
        "id": "ufeDGjsQcXpg",
        "outputId": "cd38f5c0-c7fc-4439-c4d5-d96ff593cf26"
      },
      "execution_count": 39,
      "outputs": [
        {
          "output_type": "execute_result",
          "data": {
            "text/plain": [
              "array([9, 2, 1, ..., 8, 1, 5])"
            ]
          },
          "metadata": {},
          "execution_count": 39
        }
      ]
    },
    {
      "cell_type": "code",
      "source": [
        "actual.shape"
      ],
      "metadata": {
        "colab": {
          "base_uri": "https://localhost:8080/"
        },
        "id": "Y6Gnh9Q2ef6o",
        "outputId": "9480eed6-54c4-430b-961b-53ac317ec9e6"
      },
      "execution_count": 42,
      "outputs": [
        {
          "output_type": "execute_result",
          "data": {
            "text/plain": [
              "(10000,)"
            ]
          },
          "metadata": {},
          "execution_count": 42
        }
      ]
    },
    {
      "cell_type": "code",
      "source": [
        "f, axarr = plt.subplots(5,5,figsize=((14, 9)))\n",
        "for row in range(5):\n",
        "  for col in range(5):\n",
        "\n",
        "    ind = np.random.randint(10000)\n",
        "    img = x_test[ind].reshape((28,28))\n",
        "    axarr[row, col].axis(\"off\")\n",
        "    axarr[row,col].imshow(img)\n",
        "    true_label = actual[ind]\n",
        "    pred_label = predicted[ind]\n",
        "    prediction_matches_true = (true_label == pred_label)\n",
        "    if prediction_matches_true:\n",
        "      title = label_names[true_label]\n",
        "      title_color = 'g'\n",
        "    else:\n",
        "      title = '%s/%s' % (label_names[true_label], label_names[pred_label])\n",
        "      title_color = 'r'\n",
        "    title = axarr[row, col].set_title(title)\n",
        "    plt.setp(title, color=title_color)\n",
        "\n"
      ],
      "metadata": {
        "colab": {
          "base_uri": "https://localhost:8080/",
          "height": 535
        },
        "id": "Ux5mP20Xds7D",
        "outputId": "f4494c2f-c59b-4af7-ee3c-86c3fb206f1c"
      },
      "execution_count": 60,
      "outputs": [
        {
          "output_type": "display_data",
          "data": {
            "image/png": "[encoded data removed]",
            "text/plain": [
              "<Figure size 1008x648 with 25 Axes>"
            ]
          },
          "metadata": {}
        }
      ]
    },
    {
      "cell_type": "code",
      "source": [
        ""
      ],
      "metadata": {
        "id": "fGl2Woudds4j"
      },
      "execution_count": null,
      "outputs": []
    }
  ]
}