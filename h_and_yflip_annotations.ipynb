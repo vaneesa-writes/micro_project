{
  "nbformat": 4,
  "nbformat_minor": 0,
  "metadata": {
    "colab": {
      "provenance": [],
      "authorship_tag": "ABX9TyPaFCpDrYRLTY6nW6Yj8r9q",
      "include_colab_link": true
    },
    "kernelspec": {
      "name": "python3",
      "display_name": "Python 3"
    },
    "language_info": {
      "name": "python"
    }
  },
  "cells": [
    {
      "cell_type": "markdown",
      "metadata": {
        "id": "view-in-github",
        "colab_type": "text"
      },
      "source": [
        "<a href=\"https://colab.research.google.com/github/vaneesa-writes/micro_project/blob/main/h_and_yflip_annotations.ipynb\" target=\"_parent\"><img src=\"https://colab.research.google.com/assets/colab-badge.svg\" alt=\"Open In Colab\"/></a>"
      ]
    },
    {
      "cell_type": "code",
      "execution_count": 24,
      "metadata": {
        "id": "O2iix27P_3HD"
      },
      "outputs": [],
      "source": [
        "import cv2,pandas as pd"
      ]
    },
    {
      "cell_type": "code",
      "source": [
        "df = pd.read_csv('/content/Annotation.csv',header=None)"
      ],
      "metadata": {
        "id": "bPP6Ng07AORi"
      },
      "execution_count": 25,
      "outputs": []
    },
    {
      "cell_type": "code",
      "source": [
        "annot = df.values.tolist()\n"
      ],
      "metadata": {
        "id": "8L1_XB2yAOXE"
      },
      "execution_count": 31,
      "outputs": []
    },
    {
      "cell_type": "code",
      "source": [
        "annot[0]"
      ],
      "metadata": {
        "colab": {
          "base_uri": "https://localhost:8080/"
        },
        "id": "kgKnaCQNBfjR",
        "outputId": "877bbc43-c5a0-498e-a4af-8780fef1b5e5"
      },
      "execution_count": 32,
      "outputs": [
        {
          "output_type": "execute_result",
          "data": {
            "text/plain": [
              "[2.0, 0.072, 0.911, 0.052, 0.046]"
            ]
          },
          "metadata": {},
          "execution_count": 32
        }
      ]
    },
    {
      "cell_type": "code",
      "source": [
        "path = '/content/hflip_image.jpg'\n",
        "   \n",
        "# Reading an image in default mode\n",
        "image = cv2.imread(path)\n",
        "\n",
        "for each_annot in annot:\n",
        "\n",
        "  for i in range(1,len(each_annot)):\n",
        "    each_annot[i]*=500\n",
        "\n",
        "  x_mid,y_mid,wid,hei = each_annot[1:]\n",
        "\n",
        "  # y_mid = 500 - y_mid -1\n",
        "\n",
        "  x_mid = 500 - x_mid -1\n",
        "\n",
        "  start_point = (int(x_mid-wid), int(y_mid-hei))\n",
        "    \n",
        "  end_point = (int(x_mid+wid), int(y_mid+hei))\n",
        "\n",
        "  print(start_point,end_point)\n",
        "    \n",
        "  # Blue color in BGR\n",
        "  color = (255, 0, 0)\n",
        "    \n",
        "  # Line thickness of 2 px\n",
        "  thickness = 2\n",
        "    \n",
        "  # Using cv2.rectangle() method\n",
        "  # Draw a rectangle with blue line borders of thickness of 2 px\n",
        "  image = cv2.rectangle(image, start_point, end_point, color, thickness)\n",
        "\n",
        "cv2.imwrite('hflip_bbox_image.jpg',image)"
      ],
      "metadata": {
        "colab": {
          "base_uri": "https://localhost:8080/"
        },
        "id": "CxezJtotAObd",
        "outputId": "2de580fa-e629-4e23-d091-d2a6ce1380df"
      },
      "execution_count": 33,
      "outputs": [
        {
          "output_type": "stream",
          "name": "stdout",
          "text": [
            "(437, 432) (489, 478)\n",
            "(415, 430) (467, 466)\n",
            "(439, 377) (481, 429)\n",
            "(336, 388) (400, 436)\n",
            "(226, 402) (282, 444)\n",
            "(182, 455) (226, 515)\n",
            "(152, 447) (200, 507)\n",
            "(364, 251) (414, 317)\n",
            "(346, 456) (398, 498)\n",
            "(378, 409) (432, 447)\n",
            "(437, 432) (489, 478)\n",
            "(415, 430) (467, 466)\n",
            "(439, 377) (481, 429)\n",
            "(336, 388) (400, 436)\n",
            "(226, 402) (282, 444)\n",
            "(182, 455) (226, 515)\n",
            "(152, 447) (200, 507)\n",
            "(364, 251) (414, 317)\n",
            "(346, 456) (398, 498)\n",
            "(378, 409) (432, 447)\n",
            "(437, 432) (489, 478)\n",
            "(415, 430) (467, 466)\n",
            "(439, 377) (481, 429)\n",
            "(336, 388) (400, 436)\n",
            "(226, 402) (282, 444)\n",
            "(182, 455) (226, 515)\n",
            "(152, 447) (200, 507)\n",
            "(364, 251) (414, 317)\n",
            "(346, 456) (398, 498)\n",
            "(378, 409) (432, 447)\n"
          ]
        },
        {
          "output_type": "execute_result",
          "data": {
            "text/plain": [
              "True"
            ]
          },
          "metadata": {},
          "execution_count": 33
        }
      ]
    },
    {
      "cell_type": "code",
      "source": [
        "path = '/content/x16y25.png'\n",
        "   \n",
        "# Reading an image in default mode\n",
        "image = cv2.imread(path)\n",
        "image = cv2.flip(image, 1)\n",
        "\n",
        "cv2.imwrite('hflip_image.jpg',image)\n",
        "\n",
        "# 1 for hflip 0 for vflip"
      ],
      "metadata": {
        "colab": {
          "base_uri": "https://localhost:8080/"
        },
        "id": "DxMahq-PAOf1",
        "outputId": "48094876-5076-4594-823f-f0f7dae7bef1"
      },
      "execution_count": 29,
      "outputs": [
        {
          "output_type": "execute_result",
          "data": {
            "text/plain": [
              "True"
            ]
          },
          "metadata": {},
          "execution_count": 29
        }
      ]
    },
    {
      "cell_type": "code",
      "source": [],
      "metadata": {
        "id": "B8p4TkTLAOkP"
      },
      "execution_count": null,
      "outputs": []
    },
    {
      "cell_type": "code",
      "source": [],
      "metadata": {
        "id": "OCN0st7lAOn1"
      },
      "execution_count": null,
      "outputs": []
    },
    {
      "cell_type": "code",
      "source": [],
      "metadata": {
        "id": "vOo5AtPpAOr5"
      },
      "execution_count": null,
      "outputs": []
    },
    {
      "cell_type": "code",
      "source": [],
      "metadata": {
        "id": "isxVpUQJAOwX"
      },
      "execution_count": null,
      "outputs": []
    }
  ]
}