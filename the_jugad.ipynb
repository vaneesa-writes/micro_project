{
  "nbformat": 4,
  "nbformat_minor": 0,
  "metadata": {
    "colab": {
      "provenance": [],
      "authorship_tag": "ABX9TyOSYdVPwZe1OTS9BN4lx4PV",
      "include_colab_link": true
    },
    "kernelspec": {
      "name": "python3",
      "display_name": "Python 3"
    },
    "language_info": {
      "name": "python"
    }
  },
  "cells": [
    {
      "cell_type": "markdown",
      "metadata": {
        "id": "view-in-github",
        "colab_type": "text"
      },
      "source": [
        "<a href=\"https://colab.research.google.com/github/vaneesa-writes/micro_project/blob/main/the_jugad.ipynb\" target=\"_parent\"><img src=\"https://colab.research.google.com/assets/colab-badge.svg\" alt=\"Open In Colab\"/></a>"
      ]
    },
    {
      "cell_type": "code",
      "execution_count": 278,
      "metadata": {
        "id": "N8-ipP9UEVQa"
      },
      "outputs": [],
      "source": [
        "import os,matplotlib.pyplot as plt,cv2"
      ]
    },
    {
      "cell_type": "code",
      "source": [
        "import cv2\n",
        "import numpy as np\n",
        "\n",
        "img_grey = cv2.imread('/content/mask3.png', 0)\n",
        "\n",
        "#convert img to grey\n",
        "# img_grey = cv2.cvtColor(img,cv2.COLOR_BGR2GRAY)\n",
        "#set a thresh\n",
        "thresh = 100\n",
        "#get threshold image\n",
        "ret,thresh_img = cv2.threshold(img_grey, thresh, 255, cv2.THRESH_BINARY)\n",
        "#find contours\n",
        "contours, hierarchy = cv2.findContours(thresh_img, cv2.RETR_TREE, cv2.CHAIN_APPROX_SIMPLE)\n",
        "\n",
        "# print((contours))\n",
        "\n",
        "cx=0\n",
        "cy=0\n",
        "\n",
        "for cont in contours[0]:\n",
        "  cx+=cont[0][0]\n",
        "  cy+=cont[0][1]\n",
        "cx=int(cx/len(contours[0]))\n",
        "cy=int(cy/len(contours[0]))"
      ],
      "metadata": {
        "id": "DiukWct3FAoC"
      },
      "execution_count": 279,
      "outputs": []
    },
    {
      "cell_type": "code",
      "source": [
        "mx,my=img_grey.shape[0],img_grey.shape[1]\n",
        "\n",
        "import random\n",
        "new_img = img_grey.copy()\n",
        "  \n",
        "\n",
        "for i in range(len(contours[0])):\n",
        "  if(i%20==0):\n",
        "    dir = random.randint(0,1)\n",
        "    cor = random.randint(0,1)\n",
        "    col = 0\n",
        "    dis = random.randint(0,50)\n",
        "    x=contours[0][i][0][0]\n",
        "    y=contours[0][i][0][1]\n",
        "\n",
        "    j=0\n",
        "\n",
        "    while(j<30):\n",
        "      if(cor==0):\n",
        "        dy=y\n",
        "        d=dis\n",
        "        while(d!=0):\n",
        "          d-=1\n",
        "          try:\n",
        "            new_img[x][dy]=col\n",
        "          except:\n",
        "            pass\n",
        "          if(dir):\n",
        "            dy+=1\n",
        "          else:\n",
        "            dy-=1\n",
        "        x+=1\n",
        "      else:\n",
        "        dx=x\n",
        "        d=dis\n",
        "        while(d!=0):\n",
        "          d-=1\n",
        "          try:\n",
        "            new_img[dx][y]=col\n",
        "          except:\n",
        "            pass\n",
        "          if(dir):\n",
        "            dx+=1\n",
        "          else:\n",
        "            dx-=1\n",
        "        y+=1\n",
        "      j+=1\n",
        "\n",
        "plt.imshow(new_img)"
      ],
      "metadata": {
        "colab": {
          "base_uri": "https://localhost:8080/",
          "height": 286
        },
        "id": "WV7BqWzLFAlL",
        "outputId": "e43d7ee6-04af-4116-9f37-3096932503e5"
      },
      "execution_count": 280,
      "outputs": [
        {
          "output_type": "execute_result",
          "data": {
            "text/plain": [
              "<matplotlib.image.AxesImage at 0x7f63808d8d00>"
            ]
          },
          "metadata": {},
          "execution_count": 280
        },
        {
          "output_type": "display_data",
          "data": {
            "text/plain": [
              "<Figure size 432x288 with 1 Axes>"
            ],
            "image/png": "[encoded data removed]"
          },
          "metadata": {
            "needs_background": "light"
          }
        }
      ]
    },
    {
      "cell_type": "code",
      "source": [
        "from scipy import ndimage\n",
        "new_img = ndimage.binary_fill_holes(new_img).astype(int)\n",
        "\n",
        "from PIL import Image, ImageFilter\n",
        "im = Image.fromarray((new_img * 255).astype(np.uint8))"
      ],
      "metadata": {
        "id": "LE49yBJ2FAiI"
      },
      "execution_count": 281,
      "outputs": []
    },
    {
      "cell_type": "code",
      "source": [
        "\n",
        "image = im.filter(ImageFilter.ModeFilter(size=13))\n",
        "image.save('output_mask3.png')"
      ],
      "metadata": {
        "id": "4O0zZ8R-FAfa"
      },
      "execution_count": 282,
      "outputs": []
    },
    {
      "cell_type": "code",
      "source": [],
      "metadata": {
        "id": "SgeQCp_PFAce"
      },
      "execution_count": 282,
      "outputs": []
    },
    {
      "cell_type": "code",
      "source": [
        "img.shape"
      ],
      "metadata": {
        "colab": {
          "base_uri": "https://localhost:8080/"
        },
        "id": "KSWTm9kqFAZs",
        "outputId": "14703dda-9c73-45f2-e900-87a8eb9941b6"
      },
      "execution_count": 283,
      "outputs": [
        {
          "output_type": "execute_result",
          "data": {
            "text/plain": [
              "(520, 577)"
            ]
          },
          "metadata": {},
          "execution_count": 283
        }
      ]
    }
  ]
}