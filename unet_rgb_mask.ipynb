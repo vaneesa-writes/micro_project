{
 "cells": [
  {
   "cell_type": "code",
   "execution_count": null,
   "id": "b3ec8618",
   "metadata": {},
   "outputs": [],
   "source": [
    "import tensorflow as tf\n",
    "import os\n",
    "import random\n",
    "import numpy as np\n",
    " \n",
    "from tqdm import tqdm \n",
    "\n",
    "from skimage.io import imread, imshow\n",
    "from skimage.transform import resize\n",
    "import matplotlib.pyplot as plt\n",
    "import os\n",
    "from skimage.measure import label, regionprops\n",
    "import cv2"
   ]
  },
  {
   "cell_type": "code",
   "execution_count": null,
   "id": "deb4d262",
   "metadata": {},
   "outputs": [],
   "source": [
    "print(os.getcwd())"
   ]
  },
  {
   "cell_type": "code",
   "execution_count": null,
   "id": "3e235687",
   "metadata": {},
   "outputs": [],
   "source": [
    "TRAIN_PATH = '/home/kmit/Nuclear_Pleomorpism_Birac/BreCaHAD/train/images/'\n",
    "TEST_PATH = '/home/kmit/Nuclear_Pleomorpism_Birac/BreCaHAD/test/images/'\n",
    "\n",
    "train_ids = os.listdir(TRAIN_PATH)\n",
    "test_ids = os.listdir(TEST_PATH)"
   ]
  },
  {
   "cell_type": "code",
   "execution_count": null,
   "id": "5bd7b92f",
   "metadata": {},
   "outputs": [],
   "source": [
    "\n",
    "print(train_ids)"
   ]
  },
  {
   "cell_type": "code",
   "execution_count": null,
   "id": "33f04311",
   "metadata": {},
   "outputs": [],
   "source": [
    "IMG_WIDTH = 1360\n",
    "IMG_HEIGHT = 1024\n",
    "IMG_CHANNELS = 3\n",
    "BATCH_SIZE = 32\n",
    "seed = 42"
   ]
  },
  {
   "cell_type": "code",
   "execution_count": null,
   "id": "c19e92b0",
   "metadata": {},
   "outputs": [],
   "source": [
    "X_train = np.zeros((len(train_ids), IMG_HEIGHT, IMG_WIDTH, IMG_CHANNELS), dtype=np.uint8)\n",
    "Y_train = np.zeros((len(train_ids), IMG_HEIGHT, IMG_WIDTH, 1), dtype=np.bool)"
   ]
  },
  {
   "cell_type": "code",
   "execution_count": null,
   "id": "b5693abf",
   "metadata": {},
   "outputs": [],
   "source": [
    "for n, id_ in tqdm(enumerate(train_ids), total=len(train_ids)):\n",
    "  print(id_)\n",
    "  path = TRAIN_PATH \n",
    "  img = imread(path + id_)[:,:,:IMG_CHANNELS]  \n",
    "  img = resize(img, (IMG_HEIGHT, IMG_WIDTH), mode='constant', preserve_range=True)\n",
    "  X_train[n] = img \n",
    "  mask = np.zeros((IMG_HEIGHT, IMG_WIDTH, 1), dtype=np.bool)\n",
    "  mask_ = imread('/home/kmit/Nuclear_Pleomorpism_Birac/BreCaHAD/train/mask/'+ id_[:-4]+\"_mask.png\",as_gray=True)\n",
    "  mask_ = np.expand_dims(resize(mask_, (IMG_HEIGHT, IMG_WIDTH), mode='constant',  \n",
    "                                    preserve_range=True), axis=-1)\n",
    "  print(mask_.shape)\n",
    "  mask_=np.reshape(mask_,(1024,1360,1))\n",
    "  mask = np.maximum(mask, mask_)             \n",
    "  Y_train[n] = mask"
   ]
  },
  {
   "cell_type": "code",
   "execution_count": null,
   "id": "91ad2143",
   "metadata": {},
   "outputs": [],
   "source": [
    "X_test = np.zeros((len(test_ids), IMG_HEIGHT, IMG_WIDTH, IMG_CHANNELS), dtype=np.uint8)\n",
    "sizes_test = []\n",
    "for n, id_ in tqdm(enumerate(test_ids), total=len(test_ids)):\n",
    "    path = TEST_PATH \n",
    "    img = imread(path +  id_ )[:,:,:IMG_CHANNELS]\n",
    "    sizes_test.append([img.shape[0], img.shape[1]])\n",
    "    img = resize(img, (IMG_HEIGHT, IMG_WIDTH), mode='constant', preserve_range=True)\n",
    "    X_test[n] = img"
   ]
  },
  {
   "cell_type": "code",
   "execution_count": null,
   "id": "f68f4f35",
   "metadata": {},
   "outputs": [],
   "source": [
    "def draw_sub_plots(n,m,X,Y):\n",
    "  f, axarr = plt.subplots(n,m,figsize=((10, 10)))\n",
    "  ind=0\n",
    "  for row in range(n):\n",
    "    for col in range(m):\n",
    "      if(col%2==0):\n",
    "        img = X[row].reshape((1024,1360,3))\n",
    "        axarr[row, 0].axis(\"off\")\n",
    "        axarr[row,0].imshow(img)\n",
    "        title = \"Train Image \"+str(row+1)\n",
    "        title_color = 'black'\n",
    "        title = axarr[row, 0].set_title(title)\n",
    "        plt.setp(title, color=title_color)\n",
    "    else:\n",
    "      img = Y[row]\n",
    "      axarr[row, 1].axis(\"off\")\n",
    "      axarr[row,1].imshow(img)\n",
    "      title = \"Ground Truth Image \"+str(row+1)\n",
    "      title_color = 'black'\n",
    "      title = axarr[row, 1].set_title(title)\n",
    "      plt.setp(title, color=title_color)"
   ]
  },
  {
   "cell_type": "code",
   "execution_count": null,
   "id": "5a7a3951",
   "metadata": {},
   "outputs": [],
   "source": [
    "X=[]\n",
    "Y=[]\n",
    "for ind in range(4):\n",
    "  i = random.randint(0, len(train_ids))\n",
    "  X.append(X_train[i])\n",
    "  Y.append(np.squeeze(Y_train[i]))"
   ]
  },
  {
   "cell_type": "code",
   "execution_count": null,
   "id": "9fccc0dd",
   "metadata": {},
   "outputs": [],
   "source": [
    "draw_sub_plots(4,2,X,Y)"
   ]
  },
  {
   "cell_type": "code",
   "execution_count": null,
   "id": "c988fd76",
   "metadata": {},
   "outputs": [],
   "source": [
    "from keras.preprocessing import image\n",
    "\n",
    "image_datagen = image.ImageDataGenerator(shear_range=0.5, rotation_range=50, zoom_range=0.2, width_shift_range=0.2, height_shift_range=0.2, fill_mode='reflect')\n",
    "mask_datagen = image.ImageDataGenerator(shear_range=0.5, rotation_range=50, zoom_range=0.2, width_shift_range=0.2, height_shift_range=0.2, fill_mode='reflect')\n",
    "\n",
    "image_datagen.fit(X_train[:int(X_train.shape[0]*0.9)], augment=True, seed=seed)\n",
    "mask_datagen.fit(Y_train[:int(Y_train.shape[0]*0.9)], augment=True, seed=seed)\n",
    "\n",
    "x=image_datagen.flow(X_train[:int(X_train.shape[0]*0.9)],batch_size=BATCH_SIZE,shuffle=True, seed=seed)\n",
    "y=mask_datagen.flow(Y_train[:int(Y_train.shape[0]*0.9)],batch_size=BATCH_SIZE,shuffle=True, seed=seed)\n",
    "\n",
    "image_datagen_val = image.ImageDataGenerator()\n",
    "mask_datagen_val = image.ImageDataGenerator()\n",
    "\n",
    "image_datagen_val.fit(X_train[int(X_train.shape[0]*0.9):], augment=True, seed=seed)\n",
    "mask_datagen_val.fit(Y_train[int(Y_train.shape[0]*0.9):], augment=True, seed=seed)\n",
    "\n",
    "x_val=image_datagen_val.flow(X_train[int(X_train.shape[0]*0.9):],batch_size=BATCH_SIZE,shuffle=True, seed=seed)\n",
    "y_val=mask_datagen_val.flow(Y_train[int(Y_train.shape[0]*0.9):],batch_size=BATCH_SIZE,shuffle=True, seed=seed)"
   ]
  },
  {
   "cell_type": "code",
   "execution_count": null,
   "id": "7052bc78",
   "metadata": {},
   "outputs": [],
   "source": [
    "imshow(x.next()[0].astype(np.uint8))\n",
    "plt.show()\n",
    "imshow(np.squeeze(y.next()[0]))\n",
    "plt.show()"
   ]
  },
  {
   "cell_type": "code",
   "execution_count": null,
   "id": "77239bdc",
   "metadata": {},
   "outputs": [],
   "source": [
    "train_generator = zip(x, y)\n",
    "val_generator = zip(x_val, y_val)"
   ]
  },
  {
   "cell_type": "code",
   "execution_count": null,
   "id": "b00edf42",
   "metadata": {},
   "outputs": [],
   "source": [
    "from keras.callbacks import EarlyStopping, ModelCheckpoint\n",
    "earlystopper = EarlyStopping(patience=3, verbose=1)\n",
    "checkpointer = ModelCheckpoint('model_unet_brecahd-1.h5', verbose=1, save_best_only=True)"
   ]
  },
  {
   "cell_type": "code",
   "execution_count": null,
   "id": "b0ca77cd",
   "metadata": {},
   "outputs": [],
   "source": [
    "inputs = tf.keras.layers.Input((IMG_HEIGHT, IMG_WIDTH, IMG_CHANNELS))\n",
    "s = tf.keras.layers.Lambda(lambda x: x / 255)(inputs)\n",
    "\n",
    "#Contraction path\n",
    "c1 = tf.keras.layers.Conv2D(16, (3, 3), activation='relu', kernel_initializer='he_normal', padding='same')(s)\n",
    "c1 = tf.keras.layers.Dropout(0.1)(c1)\n",
    "c1 = tf.keras.layers.Conv2D(16, (3, 3), activation='relu', kernel_initializer='he_normal', padding='same')(c1)\n",
    "p1 = tf.keras.layers.MaxPooling2D((2, 2))(c1)\n",
    "\n",
    "c2 = tf.keras.layers.Conv2D(32, (3, 3), activation='relu', kernel_initializer='he_normal', padding='same')(p1)\n",
    "c2 = tf.keras.layers.Dropout(0.1)(c2)\n",
    "c2 = tf.keras.layers.Conv2D(32, (3, 3), activation='relu', kernel_initializer='he_normal', padding='same')(c2)\n",
    "p2 = tf.keras.layers.MaxPooling2D((2, 2))(c2)\n",
    " \n",
    "c3 = tf.keras.layers.Conv2D(64, (3, 3), activation='relu', kernel_initializer='he_normal', padding='same')(p2)\n",
    "c3 = tf.keras.layers.Dropout(0.2)(c3)\n",
    "c3 = tf.keras.layers.Conv2D(64, (3, 3), activation='relu', kernel_initializer='he_normal', padding='same')(c3)\n",
    "p3 = tf.keras.layers.MaxPooling2D((2, 2))(c3)\n",
    " \n",
    "c4 = tf.keras.layers.Conv2D(128, (3, 3), activation='relu', kernel_initializer='he_normal', padding='same')(p3)\n",
    "c4 = tf.keras.layers.Dropout(0.2)(c4)\n",
    "c4 = tf.keras.layers.Conv2D(128, (3, 3), activation='relu', kernel_initializer='he_normal', padding='same')(c4)\n",
    "p4 = tf.keras.layers.MaxPooling2D(pool_size=(2, 2))(c4)\n",
    " \n",
    "c5 = tf.keras.layers.Conv2D(256, (3, 3), activation='relu', kernel_initializer='he_normal', padding='same')(p4)\n",
    "c5 = tf.keras.layers.Dropout(0.3)(c5)\n",
    "c5 = tf.keras.layers.Conv2D(256, (3, 3), activation='relu', kernel_initializer='he_normal', padding='same')(c5)\n",
    "\n",
    "#Expansive path \n",
    "u6 = tf.keras.layers.Conv2DTranspose(128, (2, 2), strides=(2, 2), padding='same')(c5)\n",
    "u6 = tf.keras.layers.concatenate([u6, c4])\n",
    "c6 = tf.keras.layers.Conv2D(128, (3, 3), activation='relu', kernel_initializer='he_normal', padding='same')(u6)\n",
    "c6 = tf.keras.layers.Dropout(0.2)(c6)\n",
    "c6 = tf.keras.layers.Conv2D(128, (3, 3), activation='relu', kernel_initializer='he_normal', padding='same')(c6)\n",
    " \n",
    "u7 = tf.keras.layers.Conv2DTranspose(64, (2, 2), strides=(2, 2), padding='same')(c6)\n",
    "u7 = tf.keras.layers.concatenate([u7, c3])\n",
    "c7 = tf.keras.layers.Conv2D(64, (3, 3), activation='relu', kernel_initializer='he_normal', padding='same')(u7)\n",
    "c7 = tf.keras.layers.Dropout(0.2)(c7)\n",
    "c7 = tf.keras.layers.Conv2D(64, (3, 3), activation='relu', kernel_initializer='he_normal', padding='same')(c7)\n",
    " \n",
    "u8 = tf.keras.layers.Conv2DTranspose(32, (2, 2), strides=(2, 2), padding='same')(c7)\n",
    "u8 = tf.keras.layers.concatenate([u8, c2])\n",
    "c8 = tf.keras.layers.Conv2D(32, (3, 3), activation='relu', kernel_initializer='he_normal', padding='same')(u8)\n",
    "c8 = tf.keras.layers.Dropout(0.1)(c8)\n",
    "c8 = tf.keras.layers.Conv2D(32, (3, 3), activation='relu', kernel_initializer='he_normal', padding='same')(c8)\n",
    " \n",
    "u9 = tf.keras.layers.Conv2DTranspose(16, (2, 2), strides=(2, 2), padding='same')(c8)\n",
    "u9 = tf.keras.layers.concatenate([u9, c1], axis=3)\n",
    "c9 = tf.keras.layers.Conv2D(16, (3, 3), activation='relu', kernel_initializer='he_normal', padding='same')(u9)\n",
    "c9 = tf.keras.layers.Dropout(0.1)(c9)\n",
    "c9 = tf.keras.layers.Conv2D(16, (3, 3), activation='relu', kernel_initializer='he_normal', padding='same')(c9)\n",
    " \n",
    "outputs = tf.keras.layers.Conv2D(1, (1, 1), activation='sigmoid')(c9)\n",
    " \n",
    "model = tf.keras.Model(inputs=[inputs], outputs=[outputs])\n",
    "model.compile(optimizer='adam', loss='binary_crossentropy', metrics=[tf.keras.metrics.MeanIoU(num_classes=2)])\n",
    "model.summary()"
   ]
  },
  {
   "cell_type": "code",
   "execution_count": null,
   "id": "42a5138f",
   "metadata": {},
   "outputs": [],
   "source": [
    "results = model.fit_generator(train_generator, validation_data=val_generator, validation_steps=10, steps_per_epoch=250,\n",
    "                              epochs=10, callbacks=[earlystopper, checkpointer])"
   ]
  },
  {
   "cell_type": "code",
   "execution_count": null,
   "id": "bd4776e1",
   "metadata": {},
   "outputs": [],
   "source": [
    "from keras.models import Model, load_model\n",
    "model = load_model('model_unet_brecahd-1.h5')\n",
    "preds_train = model.predict(X_train[:int(X_train.shape[0]*0.9)], verbose=1)\n",
    "preds_val = model.predict(X_train[int(X_train.shape[0]*0.9):], verbose=1)\n",
    "preds_test = model.predict(X_test, verbose=1)\n",
    "\n",
    "preds_train_t = (preds_train > 0.5).astype(np.uint8)\n",
    "preds_val_t = (preds_val > 0.5).astype(np.uint8)\n",
    "preds_test_t = (preds_test > 0.5).astype(np.uint8)\n",
    "\n",
    "preds_test_upsampled = []\n",
    "for i in range(len(preds_test)):\n",
    "    preds_test_upsampled.append(resize(np.squeeze(preds_test[i]), \n",
    "                                       (sizes_test[i][0], sizes_test[i][1]), \n",
    "                                       mode='constant', preserve_range=True))"
   ]
  },
  {
   "cell_type": "code",
   "execution_count": null,
   "id": "b94ffbc8",
   "metadata": {},
   "outputs": [],
   "source": [
    "def draw_sub_plots_3(n,m,X,Y,Pred,name=True):\n",
    "  f, axarr = plt.subplots(n,m,figsize=((15, 15)))\n",
    "  ind=0\n",
    "  for row in range(n):\n",
    "    for col in range(m):\n",
    "      if(col==0):\n",
    "        img = X[row].reshape((1024,1360,3))\n",
    "        axarr[row, 0].axis(\"off\")\n",
    "        axarr[row,0].imshow(img)\n",
    "        title = \"Train Image \"+str(row+1)\n",
    "        title_color = 'black'\n",
    "        title = axarr[row, 0].set_title(title)\n",
    "        plt.setp(title, color=title_color)\n",
    "      \n",
    "      elif(col==1):\n",
    "        img = Y[row]\n",
    "        axarr[row, 1].axis(\"off\")\n",
    "        axarr[row,1].imshow(img)\n",
    "        if(name==True):\n",
    "          title = \"Ground Truth Image \"+str(row+1)\n",
    "        else:\n",
    "          title = \"Predicted Mask \"+str(row+1)\n",
    "        title_color = 'black'\n",
    "        title = axarr[row, 1].set_title(title)\n",
    "        plt.setp(title, color=title_color)\n",
    "      else:\n",
    "        img = Pred[row]\n",
    "        axarr[row, 2].axis(\"off\")\n",
    "        axarr[row,2].imshow(img)\n",
    "        title = \"Predicted Image \"+str(row+1)\n",
    "        title_color = 'black'\n",
    "        title = axarr[row, 2].set_title(title)\n",
    "        plt.setp(title, color=title_color)"
   ]
  },
  {
   "cell_type": "code",
   "execution_count": null,
   "id": "73ff1b73",
   "metadata": {},
   "outputs": [],
   "source": [
    "img = Y[0]\n",
    "# axarr[0, 1].axis(\"off\")\n",
    "plt.imshow(img)\n",
    "cv2.imwrite(os.path.join(\"img.jpg\"),img)\n"
   ]
  },
  {
   "cell_type": "code",
   "execution_count": null,
   "id": "61105ec1",
   "metadata": {},
   "outputs": [],
   "source": [
    "X=[]\n",
    "Y=[]\n",
    "draw_over=[]\n",
    "gt=[]\n",
    "for ind in range(4):\n",
    "  i = random.randint(0, len(train_ids)-10)\n",
    "  X.append(X_train[i])\n",
    "  gt.append(Y_train[i])\n",
    "  Y.append(resize(np.squeeze(preds_train_t[i]), (1024, 1360), mode='constant', preserve_range=True))\n",
    "  image = np.squeeze(preds_train_t[i])\n",
    "  img_1=X_train[i].copy()\n",
    "  lbl_0 = label(image) \n",
    "  props = regionprops(lbl_0)\n",
    "  for prop in props:\n",
    "    cv2.rectangle(img_1, (prop.bbox[1], prop.bbox[0]), (prop.bbox[3], prop.bbox[2]), (255, 0, 0), 1)\n",
    "  draw_over.append(img_1)"
   ]
  },
  {
   "cell_type": "code",
   "execution_count": null,
   "id": "c7cc77dc",
   "metadata": {},
   "outputs": [],
   "source": [
    "X=[]\n",
    "Y=[]\n",
    "draw_over=[]\n",
    "gt=[]\n",
    "for ind in range(4):\n",
    "  i = random.randint(0, len(train_ids)-10)\n",
    "  X.append(X_train[i])\n",
    "  gt.append(Y_train[i])\n",
    "  Y.append(resize(np.squeeze(preds_train_t[i]), (1024,1360), mode='constant', preserve_range=True))\n",
    "  image = np.squeeze(preds_train_t[i])\n",
    "  img_1=X_train[i].copy()\n",
    "  lbl_0 = label(image) \n",
    "  props = regionprops(lbl_0)\n",
    "  for prop in props:\n",
    "    cv2.rectangle(img_1, (prop.bbox[1], prop.bbox[0]), (prop.bbox[3], prop.bbox[2]), (255, 0, 0), 1)\n",
    "  draw_over.append(img_1)"
   ]
  },
  {
   "cell_type": "code",
   "execution_count": null,
   "id": "907ea58d",
   "metadata": {
    "scrolled": true
   },
   "outputs": [],
   "source": [
    "draw_sub_plots_3(4,3,X,Y,draw_over,True)"
   ]
  },
  {
   "cell_type": "code",
   "execution_count": null,
   "id": "c630006c",
   "metadata": {},
   "outputs": [],
   "source": [
    "X=[]\n",
    "Y=[]\n",
    "draw_over=[]\n",
    "for ind in range():\n",
    "  i = random.randint(0, len(test_ids))\n",
    "  X.append(X_test[i])\n",
    "  Y.append(resize(np.squeeze(preds_test_t[i]), (128, 128), mode='constant', preserve_range=True))\n",
    "  image = np.squeeze(preds_test_t[i])\n",
    "  img_1=X_test[i].copy()\n",
    "  lbl_0 = label(image) \n",
    "  props = regionprops(lbl_0)\n",
    "  for prop in props:\n",
    "    cv2.rectangle(img_1, (prop.bbox[1], prop.bbox[0]), (prop.bbox[3], prop.bbox[2]), (255, 0, 0), 1)\n",
    "  draw_over.append(img_1)"
   ]
  },
  {
   "cell_type": "code",
   "execution_count": null,
   "id": "50c8ad1e",
   "metadata": {},
   "outputs": [],
   "source": [
    "X_test = np.zeros((len(test_ids), IMG_HEIGHT, IMG_WIDTH, IMG_CHANNELS), dtype=np.uint8)\n",
    "sizes_test = []\n",
    "names=[]\n",
    "for n, id_ in tqdm(enumerate(test_ids), total=len(test_ids)):\n",
    "    path = TEST_PATH \n",
    "    img = imread(path +  id_ )[:,:,:IMG_CHANNELS]\n",
    "    sizes_test.append([img.shape[0], img.shape[1]])\n",
    "    img = resize(img, (IMG_HEIGHT, IMG_WIDTH), mode='constant', preserve_range=True)\n",
    "    names.append(id_)\n",
    "    X_test[n] = img"
   ]
  },
  {
   "cell_type": "code",
   "execution_count": null,
   "id": "b1985154",
   "metadata": {},
   "outputs": [],
   "source": [
    "preds_test = model.predict(X_test, verbose=1)\n",
    "preds_test_t = (preds_test > 0.5).astype(np.uint8)"
   ]
  },
  {
   "cell_type": "code",
   "execution_count": null,
   "id": "f547bc59",
   "metadata": {},
   "outputs": [],
   "source": [
    "X=[]\n",
    "Y=[]\n",
    "draw_over=[]\n",
    "for i in range(len(X_test)):\n",
    "  X.append(X_test[i])\n",
    "  Y.append(resize(np.squeeze(preds_test_t[i]), (1024, 1360), mode='constant', preserve_range=True))\n",
    "  image = np.squeeze(preds_test_t[i])\n",
    "  img_1=X_test[i].copy()\n",
    "  lbl_0 = label(image) \n",
    "  props = regionprops(lbl_0)\n",
    "  for prop in props:\n",
    "    cv2.rectangle(img_1, (prop.bbox[1], prop.bbox[0]), (prop.bbox[3], prop.bbox[2]), (0, 0, 255), 1)\n",
    "  draw_over.append(img_1)"
   ]
  },
  {
   "cell_type": "code",
   "execution_count": null,
   "id": "b7bb8568",
   "metadata": {},
   "outputs": [],
   "source": [
    "for ind,img in enumerate(Y):\n",
    "    print(os.path.join(\"Results/\"+names[ind]+\"_mask.jpg\"))\n",
    "    plt.imsave(os.path.join(\"Results/\"+names[ind]+\"_mask.jpg\"),img)\n",
    "    plt.imsave(os.path.join(\"Results/\"+names[ind]+\".jpg\"),X[ind])\n",
    "    plt.imsave(os.path.join(\"Results/\"+names[ind]+\"_bbox.jpg\"),draw_over[ind])\n",
    "    "
   ]
  },
  {
   "cell_type": "code",
   "execution_count": null,
   "id": "a988a3a7",
   "metadata": {},
   "outputs": [],
   "source": [
    "draw_sub_plots_3(4,3,X,Y,draw_over,False)"
   ]
  }
 ],
 "metadata": {
  "kernelspec": {
   "display_name": "mitosis_env",
   "language": "python",
   "name": "mitosis_env"
  },
  "language_info": {
   "codemirror_mode": {
    "name": "ipython",
    "version": 3
   },
   "file_extension": ".py",
   "mimetype": "text/x-python",
   "name": "python",
   "nbconvert_exporter": "python",
   "pygments_lexer": "ipython3",
   "version": "3.8.10"
  }
 },
 "nbformat": 4,
 "nbformat_minor": 5
}
