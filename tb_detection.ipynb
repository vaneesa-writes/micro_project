{
  "nbformat": 4,
  "nbformat_minor": 0,
  "metadata": {
    "colab": {
      "name": "tb_detection.ipynb",
      "provenance": [],
      "authorship_tag": "ABX9TyP8Z9sOjFUDOtUw408GWCII",
      "include_colab_link": true
    },
    "kernelspec": {
      "name": "python3",
      "display_name": "Python 3"
    },
    "language_info": {
      "name": "python"
    },
    "accelerator": "GPU"
  },
  "cells": [
    {
      "cell_type": "markdown",
      "metadata": {
        "id": "view-in-github",
        "colab_type": "text"
      },
      "source": [
        "<a href=\"https://colab.research.google.com/github/vaneesa-writes/micro_project/blob/main/tb_detection.ipynb\" target=\"_parent\"><img src=\"https://colab.research.google.com/assets/colab-badge.svg\" alt=\"Open In Colab\"/></a>"
      ]
    },
    {
      "cell_type": "code",
      "source": [
        "'''import os\n",
        "\n",
        "import shutil\n",
        "\n",
        "import numpy as np\n",
        "\n",
        "def make_dirs_for_data:\n",
        "\n",
        "  ! pip install -q kaggle\n",
        "  from google.colab import files\n",
        "  files.upload()\n",
        "  ! mkdir ~/.kaggle\n",
        "  ! cp kaggle.json ~/.kaggle/\n",
        "  ! chmod 600 ~/.kaggle/kaggle.json\n",
        "\n",
        "\n",
        "  !kaggle datasets download -d tawsifurrahman/tuberculosis-tb-chest-xray-dataset\n",
        "\n",
        "  import zipfile\n",
        "  zf = \"/content/tuberculosis-tb-chest-xray-dataset.zip\"\n",
        "  target_dir = \"/content/dataset/cnn/chest-xray\"\n",
        "  zfile = zipfile.ZipFile(zf)\n",
        "  zfile.extractall(target_dir)\n",
        "\n",
        "  path='/content/dataset/cnn/chest-xray/TB_Chest_Radiography_Database/Tuberculosis'\n",
        "  os.listdir(path)[1]\n",
        "\n",
        "  par_dir=\"/content/dataset/cnn/chest-xray/TB_Chest_Radiography_Database\"\n",
        "  path = par_dir+'/test'\n",
        "  os.mkdir(path)\n",
        "\n",
        "  path = par_dir+'/validation'\n",
        "  os.mkdir(path)\n",
        "\n",
        "  path = par_dir+'/train'\n",
        "  os.mkdir(path)\n",
        "\n",
        "  path_of_train = \"/content/dataset/cnn/chest-xray/TB_Chest_Radiography_Database/train\"\n",
        "\n",
        "  path_of_train_normal = path_of_train+'/Normal'\n",
        "\n",
        "  path_of_train_Tb = path_of_train+'/Tb'\n",
        "\n",
        "  os.mkdir(path_of_train_normal)\n",
        "\n",
        "  os.mkdir(path_of_train_Tb)\n",
        "\n",
        "  path_of_test = \"/content/dataset/cnn/chest-xray/TB_Chest_Radiography_Database/test\"\n",
        "\n",
        "  path_of_test_normal = path_of_test+'/Normal'\n",
        "\n",
        "  path_of_test_Tb = path_of_test+'/Tb'\n",
        "\n",
        "  os.mkdir(path_of_test_normal)\n",
        "\n",
        "  os.mkdir(path_of_test_Tb)\n",
        "\n",
        "  path_of_val = \"/content/dataset/cnn/chest-xray/TB_Chest_Radiography_Database/validation\"\n",
        "\n",
        "  path_of_val_normal = path_of_val+'/Normal'\n",
        "\n",
        "  path_of_val_Tb = path_of_val+'/Tb'\n",
        "\n",
        "  os.mkdir(path_of_val_normal)\n",
        "\n",
        "  os.mkdir(path_of_val_Tb)\n",
        "  \n",
        "  source = '/content/dataset/cnn/chest-xray/TB_Chest_Radiography_Database/Normal/'\n",
        "  destination = '/content/dataset/cnn/chest-xray/TB_Chest_Radiography_Database/train/Normal/'\n",
        "    \n",
        "  allfiles = os.listdir(source)\n",
        "    \n",
        "  for f in allfiles:\n",
        "      shutil.move(source + f, destination + f)\n",
        "\n",
        "  source = '/content/dataset/cnn/chest-xray/TB_Chest_Radiography_Database/Tuberculosis/'\n",
        "  destination = '/content/dataset/cnn/chest-xray/TB_Chest_Radiography_Database/train/Tb/'\n",
        "    \n",
        "  allfiles = os.listdir(source)\n",
        "    \n",
        "  for f in allfiles:\n",
        "      shutil.move(source + f, destination + f)\n",
        "\n",
        "  source = '/content/dataset/cnn/chest-xray/TB_Chest_Radiography_Database/train/Normal/'\n",
        "  destination = '/content/dataset/cnn/chest-xray/TB_Chest_Radiography_Database/Test/Noraml/'\n",
        "\n",
        "  allfiles = os.listdir(source)\n",
        "\n",
        "  np.random.shuffle(allfiles)\n",
        "\n",
        "  allfiles = allfiles[:50]\n",
        "    \n",
        "  for f in allfiles:\n",
        "      shutil.move(source + f, destination + f)\n",
        "\n",
        "    source = '/content/dataset/cnn/chest-xray/TB_Chest_Radiography_Database/train/Normal/'\n",
        "  destination = '/content/dataset/cnn/chest-xray/TB_Chest_Radiography_Database/validation/Normal/'\n",
        "\n",
        "  allfiles = os.listdir(source)\n",
        "\n",
        "  np.random.shuffle(allfiles)\n",
        "\n",
        "  allfiles = allfiles[:50]\n",
        "    \n",
        "  for f in allfiles:\n",
        "      shutil.move(source + f, destination + f)\n",
        "\n",
        "  source = '/content/dataset/cnn/chest-xray/TB_Chest_Radiography_Database/train/Tb/'\n",
        "  destination = '/content/dataset/cnn/chest-xray/TB_Chest_Radiography_Database/validation/Tb/'\n",
        "\n",
        "  allfiles = os.listdir(source)\n",
        "\n",
        "  np.random.shuffle(allfiles)\n",
        "\n",
        "  allfiles = allfiles[:50]\n",
        "    \n",
        "  for f in allfiles:\n",
        "      shutil.move(source + f, destination + f)\n",
        "\n",
        "  source = '/content/dataset/cnn/chest-xray/TB_Chest_Radiography_Database/train/Tb/'\n",
        "  destination = '/content/dataset/cnn/chest-xray/TB_Chest_Radiography_Database/test/Tb/'\n",
        "\n",
        "  allfiles = os.listdir(source)\n",
        "\n",
        "  np.random.shuffle(allfiles)\n",
        "\n",
        "  allfiles = allfiles[:50]\n",
        "    \n",
        "  for f in allfiles:\n",
        "      shutil.move(source + f, destination + f)\n",
        "  \n",
        "  print(\"test-normal\",len(os.listdir('/content/dataset/cnn/chest-xray/TB_Chest_Radiography_Database/test/Normal')))\n",
        "  print(\"val-normal\",len(os.listdir('/content/dataset/cnn/chest-xray/TB_Chest_Radiography_Database/validation/Normal')))\n",
        "  print(\"train-normal\",len(os.listdir(\"/content/dataset/cnn/chest-xray/TB_Chest_Radiography_Database/train/Normal\")))\n",
        "\n",
        "  print(\"test-normal\",len(os.listdir('/content/dataset/cnn/chest-xray/TB_Chest_Radiography_Database/test/Tb')))\n",
        "  print(\"val-normal\",len(os.listdir('/content/dataset/cnn/chest-xray/TB_Chest_Radiography_Database/validation/Tb')))\n",
        "  print(\"train-normal\",len(os.listdir(\"/content/dataset/cnn/chest-xray/TB_Chest_Radiography_Database/train/Tb\")))\n",
        "  '''"
      ],
      "metadata": {
        "colab": {
          "base_uri": "https://localhost:8080/",
          "height": 140
        },
        "id": "URfafCG18uD9",
        "outputId": "69bb7dfe-94ec-48f7-e7f2-76ea1194a0b2"
      },
      "execution_count": 104,
      "outputs": [
        {
          "output_type": "execute_result",
          "data": {
            "application/vnd.google.colaboratory.intrinsic+json": {
              "type": "string"
            },
            "text/plain": [
              "'import os\\n\\nimport shutil\\n\\nimport numpy as np\\n\\ndef make_dirs_for_data:\\n\\n  ! pip install -q kaggle\\n  from google.colab import files\\n  files.upload()\\n  ! mkdir ~/.kaggle\\n  ! cp kaggle.json ~/.kaggle/\\n  ! chmod 600 ~/.kaggle/kaggle.json\\n\\n\\n  !kaggle datasets download -d tawsifurrahman/tuberculosis-tb-chest-xray-dataset\\n\\n  import zipfile\\n  zf = \"/content/tuberculosis-tb-chest-xray-dataset.zip\"\\n  target_dir = \"/content/dataset/cnn/chest-xray\"\\n  zfile = zipfile.ZipFile(zf)\\n  zfile.extractall(target_dir)\\n\\n  path=\\'/content/dataset/cnn/chest-xray/TB_Chest_Radiography_Database/Tuberculosis\\'\\n  os.listdir(path)[1]\\n\\n  par_dir=\"/content/dataset/cnn/chest-xray/TB_Chest_Radiography_Database\"\\n  path = par_dir+\\'/test\\'\\n  os.mkdir(path)\\n\\n  path = par_dir+\\'/validation\\'\\n  os.mkdir(path)\\n\\n  path = par_dir+\\'/train\\'\\n  os.mkdir(path)\\n\\n  path_of_train = \"/content/dataset/cnn/chest-xray/TB_Chest_Radiography_Database/train\"\\n\\n  path_of_train_normal = path_of_train+\\'/Normal\\'\\n\\n  path_of_train_Tb = path_of_train+\\'/Tb\\'\\n\\n  os.mkdir(path_of_train_normal)\\n\\n  os.mkdir(path_of_train_Tb)\\n\\n  path_of_test = \"/content/dataset/cnn/chest-xray/TB_Chest_Radiography_Database/test\"\\n\\n  path_of_test_normal = path_of_test+\\'/Normal\\'\\n\\n  path_of_test_Tb = path_of_test+\\'/Tb\\'\\n\\n  os.mkdir(path_of_test_normal)\\n\\n  os.mkdir(path_of_test_Tb)\\n\\n  path_of_val = \"/content/dataset/cnn/chest-xray/TB_Chest_Radiography_Database/validation\"\\n\\n  path_of_val_normal = path_of_val+\\'/Normal\\'\\n\\n  path_of_val_Tb = path_of_val+\\'/Tb\\'\\n\\n  os.mkdir(path_of_val_normal)\\n\\n  os.mkdir(path_of_val_Tb)\\n  \\n  source = \\'/content/dataset/cnn/chest-xray/TB_Chest_Radiography_Database/Normal/\\'\\n  destination = \\'/content/dataset/cnn/chest-xray/TB_Chest_Radiography_Database/train/Normal/\\'\\n    \\n  allfiles = os.listdir(source)\\n    \\n  for f in allfiles:\\n      shutil.move(source + f, destination + f)\\n\\n  source = \\'/content/dataset/cnn/chest-xray/TB_Chest_Radiography_Database/Tuberculosis/\\'\\n  destination = \\'/content/dataset/cnn/chest-xray/TB_Chest_Radiography_Database/train/Tb/\\'\\n    \\n  allfiles = os.listdir(source)\\n    \\n  for f in allfiles:\\n      shutil.move(source + f, destination + f)\\n\\n  source = \\'/content/dataset/cnn/chest-xray/TB_Chest_Radiography_Database/train/Normal/\\'\\n  destination = \\'/content/dataset/cnn/chest-xray/TB_Chest_Radiography_Database/Test/Noraml/\\'\\n\\n  allfiles = os.listdir(source)\\n\\n  np.random.shuffle(allfiles)\\n\\n  allfiles = allfiles[:50]\\n    \\n  for f in allfiles:\\n      shutil.move(source + f, destination + f)\\n\\n    source = \\'/content/dataset/cnn/chest-xray/TB_Chest_Radiography_Database/train/Normal/\\'\\n  destination = \\'/content/dataset/cnn/chest-xray/TB_Chest_Radiography_Database/validation/Normal/\\'\\n\\n  allfiles = os.listdir(source)\\n\\n  np.random.shuffle(allfiles)\\n\\n  allfiles = allfiles[:50]\\n    \\n  for f in allfiles:\\n      shutil.move(source + f, destination + f)\\n\\n  source = \\'/content/dataset/cnn/chest-xray/TB_Chest_Radiography_Database/train/Tb/\\'\\n  destination = \\'/content/dataset/cnn/chest-xray/TB_Chest_Radiography_Database/validation/Tb/\\'\\n\\n  allfiles = os.listdir(source)\\n\\n  np.random.shuffle(allfiles)\\n\\n  allfiles = allfiles[:50]\\n    \\n  for f in allfiles:\\n      shutil.move(source + f, destination + f)\\n\\n  source = \\'/content/dataset/cnn/chest-xray/TB_Chest_Radiography_Database/train/Tb/\\'\\n  destination = \\'/content/dataset/cnn/chest-xray/TB_Chest_Radiography_Database/test/Tb/\\'\\n\\n  allfiles = os.listdir(source)\\n\\n  np.random.shuffle(allfiles)\\n\\n  allfiles = allfiles[:50]\\n    \\n  for f in allfiles:\\n      shutil.move(source + f, destination + f)\\n  \\n  print(\"test-normal\",len(os.listdir(\\'/content/dataset/cnn/chest-xray/TB_Chest_Radiography_Database/test/Normal\\')))\\n  print(\"val-normal\",len(os.listdir(\\'/content/dataset/cnn/chest-xray/TB_Chest_Radiography_Database/validation/Normal\\')))\\n  print(\"train-normal\",len(os.listdir(\"/content/dataset/cnn/chest-xray/TB_Chest_Radiography_Database/train/Normal\")))\\n\\n  print(\"test-normal\",len(os.listdir(\\'/content/dataset/cnn/chest-xray/TB_Chest_Radiography_Database/test/Tb\\')))\\n  print(\"val-normal\",len(os.listdir(\\'/content/dataset/cnn/chest-xray/TB_Chest_Radiography_Database/validation/Tb\\')))\\n  print(\"train-normal\",len(os.listdir(\"/content/dataset/cnn/chest-xray/TB_Chest_Radiography_Database/train/Tb\")))\\n  '"
            ]
          },
          "metadata": {},
          "execution_count": 104
        }
      ]
    },
    {
      "cell_type": "markdown",
      "source": [
        "Call make_dirs_for_data only for the first time you run the code"
      ],
      "metadata": {
        "id": "MmQYe3Ox_Opf"
      }
    },
    {
      "cell_type": "code",
      "source": [
        "import numpy as np\n",
        "import matplotlib.pyplot as plt\n",
        "import tensorflow as tf\n",
        "import tensorflow.keras.backend as K\n",
        "from tensorflow.keras.layers import (Input, Conv2D, MaxPooling2D, Flatten, \n",
        "                                     Dense, Dropout, BatchNormalization)\n",
        "from tensorflow.keras.models import Sequential\n",
        "from tensorflow.keras.optimizers import Adam\n",
        "from tensorflow.keras import regularizers"
      ],
      "metadata": {
        "id": "gxOGsvyZuJ-c"
      },
      "execution_count": 105,
      "outputs": []
    },
    {
      "cell_type": "code",
      "source": [
        "img = image.load_img('/content/dataset/cnn/chest-xray/TB_Chest_Radiography_Database/validation/Normal/Normal-1038.png')"
      ],
      "metadata": {
        "id": "M02zsTWjA06a"
      },
      "execution_count": 106,
      "outputs": []
    },
    {
      "cell_type": "code",
      "source": [
        "x = image.img_to_array(img)\n",
        "\n",
        "x.shape"
      ],
      "metadata": {
        "colab": {
          "base_uri": "https://localhost:8080/"
        },
        "id": "GN1QgQd8A0jb",
        "outputId": "56a424a6-1210-451b-f6ff-78b77b0a7782"
      },
      "execution_count": 107,
      "outputs": [
        {
          "output_type": "execute_result",
          "data": {
            "text/plain": [
              "(512, 512, 3)"
            ]
          },
          "metadata": {},
          "execution_count": 107
        }
      ]
    },
    {
      "cell_type": "code",
      "source": [
        "model = Sequential([\n",
        "        Conv2D(64, kernel_size=(3, 3), activation='relu', padding='same', \n",
        "               input_shape=(128, 128, 3)),\n",
        "        BatchNormalization(),\n",
        "        Conv2D(64, kernel_size=(3, 3), activation='relu'),\n",
        "        BatchNormalization(),\n",
        "        MaxPooling2D(pool_size=(2, 2)),\n",
        "        Dropout(0.25),\n",
        "\n",
        "        Conv2D(128, kernel_size=(3, 3), activation='relu', padding='same'),\n",
        "        BatchNormalization(),\n",
        "        Conv2D(128, kernel_size=(3, 3), activation='relu'),\n",
        "        BatchNormalization(),        \n",
        "        MaxPooling2D(pool_size=(2, 2)),\n",
        "        Dropout(0.25),\n",
        "        \n",
        "        Conv2D(256, kernel_size=(3, 3), activation='relu', padding='same'),\n",
        "        BatchNormalization(),\n",
        "        Conv2D(256, kernel_size=(3, 3), activation='relu'),\n",
        "        BatchNormalization(),    \n",
        "        MaxPooling2D(pool_size=(2, 2)),   \n",
        "        Dropout(0.25),\n",
        "        \n",
        "        Flatten(),\n",
        "        \n",
        "        Dense(1024, activation='relu'),\n",
        "        \n",
        "        Dense(512, activation='relu'),\n",
        "        \n",
        "        Dense(1,activation='sigmoid')\n",
        "    ])\n",
        "model.compile(loss='binary_crossentropy',optimizer='adam',metrics=['accuracy'])"
      ],
      "metadata": {
        "id": "ang7XkesA0hP"
      },
      "execution_count": 108,
      "outputs": []
    },
    {
      "cell_type": "code",
      "source": [
        "from keras.preprocessing.image import ImageDataGenerator\n",
        "\n",
        "train_gen = ImageDataGenerator(rescale=1.0/255,\n",
        "    rotation_range = 40,\n",
        "    width_shift_range = 0.2,\n",
        "    height_shift_range = 0.2,\n",
        "    shear_range = 0.2,\n",
        "    zoom_range = 0.3,\n",
        "    horizontal_flip = True\n",
        "    )\n",
        "\n",
        "\n",
        "val_gen = ImageDataGenerator(rescale=1.0/255)\n",
        "\n",
        "train_generator = train_gen.flow_from_directory(\n",
        "    \"/content/dataset/cnn/chest-xray/TB_Chest_Radiography_Database/train/\",\n",
        "    target_size = (128,128),\n",
        "    batch_size = 32,\n",
        "    class_mode = 'binary'\n",
        ")\n",
        "\n",
        "val_generator = val_gen.flow_from_directory(\n",
        "    \"/content/dataset/cnn/chest-xray/TB_Chest_Radiography_Database/validation/\",\n",
        "    target_size = (128,128),\n",
        "    batch_size = 32,\n",
        "    class_mode = 'binary'\n",
        ")"
      ],
      "metadata": {
        "colab": {
          "base_uri": "https://localhost:8080/"
        },
        "id": "K4gGrGIIA0cG",
        "outputId": "2df0f594-aed4-47b5-b254-99c12442bbd3"
      },
      "execution_count": 109,
      "outputs": [
        {
          "output_type": "stream",
          "name": "stdout",
          "text": [
            "Found 3900 images belonging to 2 classes.\n",
            "Found 150 images belonging to 2 classes.\n"
          ]
        }
      ]
    },
    {
      "cell_type": "code",
      "source": [
        "train_generator.image_shape"
      ],
      "metadata": {
        "colab": {
          "base_uri": "https://localhost:8080/"
        },
        "id": "Z9flUjfYA0Zb",
        "outputId": "77d4c674-230f-465e-8441-6901aa7a1853"
      },
      "execution_count": 110,
      "outputs": [
        {
          "output_type": "execute_result",
          "data": {
            "text/plain": [
              "(128, 128, 3)"
            ]
          },
          "metadata": {},
          "execution_count": 110
        }
      ]
    },
    {
      "cell_type": "code",
      "source": [
        "train_generator.class_indices"
      ],
      "metadata": {
        "colab": {
          "base_uri": "https://localhost:8080/"
        },
        "id": "obD2v14GA0Ww",
        "outputId": "3402882e-8f5c-4334-a11d-b52be12edd06"
      },
      "execution_count": 111,
      "outputs": [
        {
          "output_type": "execute_result",
          "data": {
            "text/plain": [
              "{'Normal': 0, 'Tb': 1}"
            ]
          },
          "metadata": {},
          "execution_count": 111
        }
      ]
    },
    {
      "cell_type": "code",
      "source": [
        "my_callbacks = [\n",
        "    tf.keras.callbacks.EarlyStopping(patience=2),\n",
        "    tf.keras.callbacks.ModelCheckpoint(filepath='model.{epoch:02d}-{val_loss:.2f}.h5',\n",
        "                              monitor='val_loss',\n",
        "                             verbose=1, \n",
        "                             save_best_only=True),\n",
        "    tf.keras.callbacks.TensorBoard(log_dir='./logs'),\n",
        "]"
      ],
      "metadata": {
        "id": "z3X0JFrzJtTD"
      },
      "execution_count": 112,
      "outputs": []
    },
    {
      "cell_type": "code",
      "source": [
        "hist_new = model.fit_generator(\n",
        "    train_generator,\n",
        "    steps_per_epoch=10,\n",
        "    epochs = 50,\n",
        "    validation_data = val_generator,\n",
        "    validation_steps=2,\n",
        "    callbacks=my_callbacks\n",
        ")"
      ],
      "metadata": {
        "colab": {
          "base_uri": "https://localhost:8080/"
        },
        "id": "HWKtTMVRA0UT",
        "outputId": "28ecfcd7-b53b-4843-a845-086d701a42ce"
      },
      "execution_count": 113,
      "outputs": [
        {
          "output_type": "stream",
          "name": "stderr",
          "text": [
            "/usr/local/lib/python3.7/dist-packages/ipykernel_launcher.py:7: UserWarning: `Model.fit_generator` is deprecated and will be removed in a future version. Please use `Model.fit`, which supports generators.\n",
            "  import sys\n"
          ]
        },
        {
          "output_type": "stream",
          "name": "stdout",
          "text": [
            "Epoch 1/50\n",
            "10/10 [==============================] - ETA: 0s - loss: 6.0736 - accuracy: 0.8031\n",
            "Epoch 00001: val_loss improved from inf to 8.92035, saving model to model.01-8.92.h5\n",
            "10/10 [==============================] - 10s 899ms/step - loss: 6.0736 - accuracy: 0.8031 - val_loss: 8.9204 - val_accuracy: 0.6719\n",
            "Epoch 2/50\n",
            "10/10 [==============================] - ETA: 0s - loss: 1.6008 - accuracy: 0.9000\n",
            "Epoch 00002: val_loss improved from 8.92035 to 2.79537, saving model to model.02-2.80.h5\n",
            "10/10 [==============================] - 8s 855ms/step - loss: 1.6008 - accuracy: 0.9000 - val_loss: 2.7954 - val_accuracy: 0.5000\n",
            "Epoch 3/50\n",
            "10/10 [==============================] - ETA: 0s - loss: 2.6170 - accuracy: 0.8875\n",
            "Epoch 00003: val_loss improved from 2.79537 to 1.94422, saving model to model.03-1.94.h5\n",
            "10/10 [==============================] - 9s 821ms/step - loss: 2.6170 - accuracy: 0.8875 - val_loss: 1.9442 - val_accuracy: 0.8438\n",
            "Epoch 4/50\n",
            "10/10 [==============================] - ETA: 0s - loss: 1.4977 - accuracy: 0.8875\n",
            "Epoch 00004: val_loss did not improve from 1.94422\n",
            "10/10 [==============================] - 7s 677ms/step - loss: 1.4977 - accuracy: 0.8875 - val_loss: 9.8337 - val_accuracy: 0.7812\n",
            "Epoch 5/50\n",
            "10/10 [==============================] - ETA: 0s - loss: 2.5339 - accuracy: 0.9156\n",
            "Epoch 00005: val_loss did not improve from 1.94422\n",
            "10/10 [==============================] - 7s 650ms/step - loss: 2.5339 - accuracy: 0.9156 - val_loss: 10.8855 - val_accuracy: 0.5469\n"
          ]
        }
      ]
    },
    {
      "cell_type": "code",
      "source": [
        "plt.style.use(\"seaborn\")\n",
        "plt.plot(hist_new.history['accuracy'],label=\"accuracy\",c='green')\n",
        "plt.plot(hist_new.history['val_accuracy'],label=\"val_accuracy\",c='orange')\n",
        "plt.legend()"
      ],
      "metadata": {
        "colab": {
          "base_uri": "https://localhost:8080/",
          "height": 364
        },
        "id": "o6MpZf1MA0Qp",
        "outputId": "6f6841c6-3720-4837-938f-d0c2653bc89b"
      },
      "execution_count": 123,
      "outputs": [
        {
          "output_type": "execute_result",
          "data": {
            "text/plain": [
              "<matplotlib.legend.Legend at 0x7f4eba2c41d0>"
            ]
          },
          "metadata": {},
          "execution_count": 123
        },
        {
          "output_type": "display_data",
          "data": {
            "image/png": "[encoded data removed]",
            "text/plain": [
              "<Figure size 576x396 with 1 Axes>"
            ]
          },
          "metadata": {}
        }
      ]
    },
    {
      "cell_type": "code",
      "source": [
        "model = keras.models.load_model(filepath='/content/model.03-1.94.h5')"
      ],
      "metadata": {
        "id": "qsg2XhxELlNc"
      },
      "execution_count": 125,
      "outputs": []
    },
    {
      "cell_type": "code",
      "source": [
        "model.evaluate_generator(val_generator)"
      ],
      "metadata": {
        "colab": {
          "base_uri": "https://localhost:8080/"
        },
        "id": "bHkQknirNLwa",
        "outputId": "20b5fef7-d77a-4e3b-db53-824e9692115e"
      },
      "execution_count": 126,
      "outputs": [
        {
          "output_type": "stream",
          "name": "stderr",
          "text": [
            "/usr/local/lib/python3.7/dist-packages/ipykernel_launcher.py:1: UserWarning: `Model.evaluate_generator` is deprecated and will be removed in a future version. Please use `Model.evaluate`, which supports generators.\n",
            "  \"\"\"Entry point for launching an IPython kernel.\n"
          ]
        },
        {
          "output_type": "execute_result",
          "data": {
            "text/plain": [
              "[2.628533363342285, 0.8066666722297668]"
            ]
          },
          "metadata": {},
          "execution_count": 126
        }
      ]
    },
    {
      "cell_type": "code",
      "source": [
        "test_gen = ImageDataGenerator(rescale=1.0/255)\n",
        "\n",
        "test_generator = test_gen.flow_from_directory(\n",
        "    \"/content/dataset/cnn/chest-xray/TB_Chest_Radiography_Database/test/\",\n",
        "    target_size = (128,128),\n",
        "    batch_size = 32,\n",
        "    class_mode = 'binary'\n",
        ")"
      ],
      "metadata": {
        "colab": {
          "base_uri": "https://localhost:8080/"
        },
        "id": "zpp_wKBgNLsz",
        "outputId": "59129b5d-261e-405b-d743-5ec776f3b687"
      },
      "execution_count": 129,
      "outputs": [
        {
          "output_type": "stream",
          "name": "stdout",
          "text": [
            "Found 150 images belonging to 2 classes.\n"
          ]
        }
      ]
    },
    {
      "cell_type": "code",
      "source": [
        "result = model.evaluate(test_generator)"
      ],
      "metadata": {
        "colab": {
          "base_uri": "https://localhost:8080/"
        },
        "id": "m83ThVDSNLnn",
        "outputId": "afd6004a-1cb2-4653-8f70-c6c363e344ec"
      },
      "execution_count": 130,
      "outputs": [
        {
          "output_type": "stream",
          "name": "stdout",
          "text": [
            "5/5 [==============================] - 2s 392ms/step - loss: 2.3566 - accuracy: 0.7667\n"
          ]
        }
      ]
    },
    {
      "cell_type": "code",
      "source": [
        "y_actual, y_test = [],[]"
      ],
      "metadata": {
        "id": "oaevs_g5PAfA"
      },
      "execution_count": 131,
      "outputs": []
    },
    {
      "cell_type": "code",
      "source": [
        "for i in os.listdir(\"/content/dataset/cnn/chest-xray/TB_Chest_Radiography_Database/test/Tb/\"):\n",
        "    img=image.load_img(\"/content/dataset/cnn/chest-xray/TB_Chest_Radiography_Database/test/Tb/\"+i,target_size=(128,128))\n",
        "    img=image.img_to_array(img)\n",
        "    img=np.expand_dims(img,axis=0)\n",
        "    pred=model.predict(img)\n",
        "    y_test.append(pred[0,0])\n",
        "    y_actual.append(1)"
      ],
      "metadata": {
        "id": "TCCC1WEZNLj2"
      },
      "execution_count": 134,
      "outputs": []
    },
    {
      "cell_type": "code",
      "source": [
        "for i in os.listdir(\"/content/dataset/cnn/chest-xray/TB_Chest_Radiography_Database/test/Normal/\"):\n",
        "    img=image.load_img(\"/content/dataset/cnn/chest-xray/TB_Chest_Radiography_Database/test/Normal/\"+i,target_size=(128,128))\n",
        "    img=image.img_to_array(img)\n",
        "    img=np.expand_dims(img,axis=0)\n",
        "    pred=model.predict(img)\n",
        "    y_test.append(pred[0,0])\n",
        "    y_actual.append(0)"
      ],
      "metadata": {
        "id": "0a6OK6iXNLc6"
      },
      "execution_count": 135,
      "outputs": []
    },
    {
      "cell_type": "code",
      "source": [
        "y_actual=np.array(y_actual)\n",
        "y_test=np.array(y_test)\n",
        "\n",
        "y_actual = y_actual.astype(int)\n",
        "y_test = y_test.astype(int)\n"
      ],
      "metadata": {
        "id": "bHmVDitNNLW9"
      },
      "execution_count": 140,
      "outputs": []
    },
    {
      "cell_type": "code",
      "source": [
        "from sklearn.metrics import confusion_matrix\n",
        "import seaborn as sns\n",
        "cn=confusion_matrix(y_actual,y_test)"
      ],
      "metadata": {
        "id": "RRd2uDRFP3Ig"
      },
      "execution_count": 141,
      "outputs": []
    },
    {
      "cell_type": "code",
      "source": [
        "sns.heatmap(cn,cmap=\"plasma\",annot=True)"
      ],
      "metadata": {
        "colab": {
          "base_uri": "https://localhost:8080/",
          "height": 364
        },
        "id": "BbstwWAjP3ER",
        "outputId": "3f58de55-db2e-47d8-880e-b5c08c21efe9"
      },
      "execution_count": 142,
      "outputs": [
        {
          "output_type": "execute_result",
          "data": {
            "text/plain": [
              "<matplotlib.axes._subplots.AxesSubplot at 0x7f4e45d09c90>"
            ]
          },
          "metadata": {},
          "execution_count": 142
        },
        {
          "output_type": "display_data",
          "data": {
            "image/png": "[encoded data removed]",
            "text/plain": [
              "<Figure size 576x396 with 2 Axes>"
            ]
          },
          "metadata": {}
        }
      ]
    }
  ]
}