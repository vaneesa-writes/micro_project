{
  "nbformat": 4,
  "nbformat_minor": 0,
  "metadata": {
    "colab": {
      "name": "tb_detection.ipynb",
      "provenance": [],
      "authorship_tag": "ABX9TyMGUEcIi/g+f/ITtToiXxq+",
      "include_colab_link": true
    },
    "kernelspec": {
      "name": "python3",
      "display_name": "Python 3"
    },
    "language_info": {
      "name": "python"
    },
    "accelerator": "GPU"
  },
  "cells": [
    {
      "cell_type": "markdown",
      "metadata": {
        "id": "view-in-github",
        "colab_type": "text"
      },
      "source": [
        "<a href=\"https://colab.research.google.com/github/vaneesa-writes/micro_project/blob/main/tb_detection.ipynb\" target=\"_parent\"><img src=\"https://colab.research.google.com/assets/colab-badge.svg\" alt=\"Open In Colab\"/></a>"
      ]
    },
    {
      "cell_type": "code",
      "source": [
        "'''import os\n",
        "\n",
        "import shutil\n",
        "\n",
        "import numpy as np\n",
        "\n",
        "def make_dirs_for_data:\n",
        "\n",
        "  ! pip install -q kaggle\n",
        "  from google.colab import files\n",
        "  files.upload()\n",
        "  ! mkdir ~/.kaggle\n",
        "  ! cp kaggle.json ~/.kaggle/\n",
        "  ! chmod 600 ~/.kaggle/kaggle.json\n",
        "\n",
        "\n",
        "  !kaggle datasets download -d tawsifurrahman/tuberculosis-tb-chest-xray-dataset\n",
        "\n",
        "  import zipfile\n",
        "  zf = \"/content/tuberculosis-tb-chest-xray-dataset.zip\"\n",
        "  target_dir = \"/content/dataset/cnn/chest-xray\"\n",
        "  zfile = zipfile.ZipFile(zf)\n",
        "  zfile.extractall(target_dir)\n",
        "\n",
        "  path='/content/dataset/cnn/chest-xray/TB_Chest_Radiography_Database/Tuberculosis'\n",
        "  os.listdir(path)[1]\n",
        "\n",
        "  par_dir=\"/content/dataset/cnn/chest-xray/TB_Chest_Radiography_Database\"\n",
        "  path = par_dir+'/test'\n",
        "  os.mkdir(path)\n",
        "\n",
        "  path = par_dir+'/validation'\n",
        "  os.mkdir(path)\n",
        "\n",
        "  path = par_dir+'/train'\n",
        "  os.mkdir(path)\n",
        "\n",
        "  path_of_train = \"/content/dataset/cnn/chest-xray/TB_Chest_Radiography_Database/train\"\n",
        "\n",
        "  path_of_train_normal = path_of_train+'/Normal'\n",
        "\n",
        "  path_of_train_Tb = path_of_train+'/Tb'\n",
        "\n",
        "  os.mkdir(path_of_train_normal)\n",
        "\n",
        "  os.mkdir(path_of_train_Tb)\n",
        "\n",
        "  path_of_test = \"/content/dataset/cnn/chest-xray/TB_Chest_Radiography_Database/test\"\n",
        "\n",
        "  path_of_test_normal = path_of_test+'/Normal'\n",
        "\n",
        "  path_of_test_Tb = path_of_test+'/Tb'\n",
        "\n",
        "  os.mkdir(path_of_test_normal)\n",
        "\n",
        "  os.mkdir(path_of_test_Tb)\n",
        "\n",
        "  path_of_val = \"/content/dataset/cnn/chest-xray/TB_Chest_Radiography_Database/validation\"\n",
        "\n",
        "  path_of_val_normal = path_of_val+'/Normal'\n",
        "\n",
        "  path_of_val_Tb = path_of_val+'/Tb'\n",
        "\n",
        "  os.mkdir(path_of_val_normal)\n",
        "\n",
        "  os.mkdir(path_of_val_Tb)\n",
        "  \n",
        "  source = '/content/dataset/cnn/chest-xray/TB_Chest_Radiography_Database/Normal/'\n",
        "  destination = '/content/dataset/cnn/chest-xray/TB_Chest_Radiography_Database/train/Normal/'\n",
        "    \n",
        "  allfiles = os.listdir(source)\n",
        "    \n",
        "  for f in allfiles:\n",
        "      shutil.move(source + f, destination + f)\n",
        "\n",
        "  source = '/content/dataset/cnn/chest-xray/TB_Chest_Radiography_Database/Tuberculosis/'\n",
        "  destination = '/content/dataset/cnn/chest-xray/TB_Chest_Radiography_Database/train/Tb/'\n",
        "    \n",
        "  allfiles = os.listdir(source)\n",
        "    \n",
        "  for f in allfiles:\n",
        "      shutil.move(source + f, destination + f)\n",
        "\n",
        "  source = '/content/dataset/cnn/chest-xray/TB_Chest_Radiography_Database/train/Normal/'\n",
        "  destination = '/content/dataset/cnn/chest-xray/TB_Chest_Radiography_Database/Test/Noraml/'\n",
        "\n",
        "  allfiles = os.listdir(source)\n",
        "\n",
        "  np.random.shuffle(allfiles)\n",
        "\n",
        "  allfiles = allfiles[:50]\n",
        "    \n",
        "  for f in allfiles:\n",
        "      shutil.move(source + f, destination + f)\n",
        "\n",
        "    source = '/content/dataset/cnn/chest-xray/TB_Chest_Radiography_Database/train/Normal/'\n",
        "  destination = '/content/dataset/cnn/chest-xray/TB_Chest_Radiography_Database/validation/Normal/'\n",
        "\n",
        "  allfiles = os.listdir(source)\n",
        "\n",
        "  np.random.shuffle(allfiles)\n",
        "\n",
        "  allfiles = allfiles[:50]\n",
        "    \n",
        "  for f in allfiles:\n",
        "      shutil.move(source + f, destination + f)\n",
        "\n",
        "  source = '/content/dataset/cnn/chest-xray/TB_Chest_Radiography_Database/train/Tb/'\n",
        "  destination = '/content/dataset/cnn/chest-xray/TB_Chest_Radiography_Database/validation/Tb/'\n",
        "\n",
        "  allfiles = os.listdir(source)\n",
        "\n",
        "  np.random.shuffle(allfiles)\n",
        "\n",
        "  allfiles = allfiles[:50]\n",
        "    \n",
        "  for f in allfiles:\n",
        "      shutil.move(source + f, destination + f)\n",
        "\n",
        "  source = '/content/dataset/cnn/chest-xray/TB_Chest_Radiography_Database/train/Tb/'\n",
        "  destination = '/content/dataset/cnn/chest-xray/TB_Chest_Radiography_Database/test/Tb/'\n",
        "\n",
        "  allfiles = os.listdir(source)\n",
        "\n",
        "  np.random.shuffle(allfiles)\n",
        "\n",
        "  allfiles = allfiles[:50]\n",
        "    \n",
        "  for f in allfiles:\n",
        "      shutil.move(source + f, destination + f)\n",
        "  \n",
        "  print(\"test-normal\",len(os.listdir('/content/dataset/cnn/chest-xray/TB_Chest_Radiography_Database/test/Normal')))\n",
        "  print(\"val-normal\",len(os.listdir('/content/dataset/cnn/chest-xray/TB_Chest_Radiography_Database/validation/Normal')))\n",
        "  print(\"train-normal\",len(os.listdir(\"/content/dataset/cnn/chest-xray/TB_Chest_Radiography_Database/train/Normal\")))\n",
        "\n",
        "  print(\"test-normal\",len(os.listdir('/content/dataset/cnn/chest-xray/TB_Chest_Radiography_Database/test/Tb')))\n",
        "  print(\"val-normal\",len(os.listdir('/content/dataset/cnn/chest-xray/TB_Chest_Radiography_Database/validation/Tb')))\n",
        "  print(\"train-normal\",len(os.listdir(\"/content/dataset/cnn/chest-xray/TB_Chest_Radiography_Database/train/Tb\")))\n",
        "  '''"
      ],
      "metadata": {
        "id": "URfafCG18uD9"
      },
      "execution_count": null,
      "outputs": []
    },
    {
      "cell_type": "markdown",
      "source": [
        "Call make_dirs_for_data only for the first time you run the code"
      ],
      "metadata": {
        "id": "MmQYe3Ox_Opf"
      }
    },
    {
      "cell_type": "code",
      "source": [
        ""
      ],
      "metadata": {
        "colab": {
          "base_uri": "https://localhost:8080/"
        },
        "id": "gxOGsvyZuJ-c",
        "outputId": "8544f373-542d-4bec-cbd2-d56ba9ca23e5"
      },
      "execution_count": 79,
      "outputs": [
        {
          "output_type": "stream",
          "name": "stdout",
          "text": [
            "test-normal 50\n",
            "val-normal 50\n",
            "train-normal 601\n"
          ]
        }
      ]
    }
  ]
}