{
  "nbformat": 4,
  "nbformat_minor": 0,
  "metadata": {
    "colab": {
      "name": "face_recog.ipynb",
      "provenance": [],
      "authorship_tag": "ABX9TyMQ8YlRLNO/xHVP7YCmlUZV",
      "include_colab_link": true
    },
    "kernelspec": {
      "name": "python3",
      "display_name": "Python 3"
    },
    "language_info": {
      "name": "python"
    },
    "accelerator": "GPU"
  },
  "cells": [
    {
      "cell_type": "markdown",
      "metadata": {
        "id": "view-in-github",
        "colab_type": "text"
      },
      "source": [
        "<a href=\"https://colab.research.google.com/github/vaneesa-writes/micro_project/blob/main/face_recog.ipynb\" target=\"_parent\"><img src=\"https://colab.research.google.com/assets/colab-badge.svg\" alt=\"Open In Colab\"/></a>"
      ]
    },
    {
      "cell_type": "code",
      "execution_count": 1,
      "metadata": {
        "id": "Scl04t-3iw5X"
      },
      "outputs": [],
      "source": [
        ""
      ]
    },
    {
      "cell_type": "code",
      "source": [
        "!pip install -q kaggle\n",
        "from google.colab import files\n",
        "files.upload()\n",
        "! mkdir ~/.kaggle\n",
        "! cp kaggle.json ~/.kaggle/\n",
        "! chmod 600 ~/.kaggle/kaggle.json\n",
        "# ! kaggle datasets list"
      ],
      "metadata": {
        "colab": {
          "resources": {
            "http://localhost:8080/nbextensions/google.colab/files.js": {
              "data": "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",
              "ok": true,
              "headers": [
                [
                  "content-type",
                  "application/javascript"
                ]
              ],
              "status": 200,
              "status_text": ""
            }
          },
          "base_uri": "https://localhost:8080/",
          "height": 56
        },
        "id": "zngztwfWjArG",
        "outputId": "efce5e12-9f46-4627-8532-8be3efc06e78"
      },
      "execution_count": 2,
      "outputs": [
        {
          "output_type": "display_data",
          "data": {
            "text/plain": [
              "<IPython.core.display.HTML object>"
            ],
            "text/html": [
              "\n",
              "     <input type=\"file\" id=\"files-6d3190d2-7cee-4b8f-8290-b16c68350ed8\" name=\"files[]\" multiple disabled\n",
              "        style=\"border:none\" />\n",
              "     <output id=\"result-6d3190d2-7cee-4b8f-8290-b16c68350ed8\">\n",
              "      Upload widget is only available when the cell has been executed in the\n",
              "      current browser session. Please rerun this cell to enable.\n",
              "      </output>\n",
              "      <script src=\"/nbextensions/google.colab/files.js\"></script> "
            ]
          },
          "metadata": {}
        },
        {
          "output_type": "stream",
          "name": "stdout",
          "text": [
            "mkdir: cannot create directory ‘/root/.kaggle’: File exists\n"
          ]
        }
      ]
    },
    {
      "cell_type": "code",
      "source": [
        "!kaggle datasets download -d pramod722445/face-recognition-30"
      ],
      "metadata": {
        "colab": {
          "base_uri": "https://localhost:8080/"
        },
        "id": "09DMW1UykMWs",
        "outputId": "991f6982-bb30-4174-ae71-af38b0a8cff7"
      },
      "execution_count": 3,
      "outputs": [
        {
          "output_type": "stream",
          "name": "stdout",
          "text": [
            "face-recognition-30.zip: Skipping, found more recently modified local copy (use --force to force download)\n"
          ]
        }
      ]
    },
    {
      "cell_type": "code",
      "source": [
        "import zipfile\n",
        "zf = \"/content/face-recognition-30.zip\"\n",
        "target_dir = \"/content/input/face-recognition-30/dataset\"\n",
        "zfile = zipfile.ZipFile(zf)\n",
        "zfile.extractall(target_dir)"
      ],
      "metadata": {
        "id": "bvwDYRw7kQsM"
      },
      "execution_count": 4,
      "outputs": []
    },
    {
      "cell_type": "code",
      "source": [
        "import numpy as np\n",
        "import pandas as pd\n",
        "import tensorflow as tf\n",
        "import os\n",
        "import cv2\n",
        "import matplotlib.pyplot as plt\n",
        "import matplotlib as mpl\n",
        "\n",
        "# style your matplotlib\n",
        "mpl.style.use(\"seaborn-darkgrid\")\n",
        "# run this block"
      ],
      "metadata": {
        "id": "aNo0HRNYkRKH"
      },
      "execution_count": 5,
      "outputs": []
    },
    {
      "cell_type": "code",
      "source": [
        "from tqdm import tqdm"
      ],
      "metadata": {
        "id": "1OCfDJOqkRYg"
      },
      "execution_count": 6,
      "outputs": []
    },
    {
      "cell_type": "code",
      "source": [
        "files=os.listdir(\"/content/input/face-recognition-30/dataset/dataset/\")\n",
        "files\n"
      ],
      "metadata": {
        "colab": {
          "base_uri": "https://localhost:8080/"
        },
        "id": "wjY-y6yLkRsV",
        "outputId": "5ef76e67-7b48-401a-dcbe-b2f8a68235cb"
      },
      "execution_count": 7,
      "outputs": [
        {
          "output_type": "execute_result",
          "data": {
            "text/plain": [
              "['Johnny_Galeck',\n",
              " 'Courteney_Cox',\n",
              " 'Jennifer_Aniston',\n",
              " 'aishwarya_rai',\n",
              " 'hardik_pandya',\n",
              " 'manoj_bajpayee',\n",
              " 'Jim_Parsons',\n",
              " 'angelina_jolie',\n",
              " 'David_Schwimmer',\n",
              " 'random_person',\n",
              " 'scarlett_johansson',\n",
              " 'sylvester_stallone',\n",
              " 'mohamed_ali',\n",
              " 'Lisa_Kudrow',\n",
              " 'ronaldo',\n",
              " 'Simon_Helberg',\n",
              " 'Matthew_Perry',\n",
              " 'Pankaj_Tripathi',\n",
              " 'pewdiepie',\n",
              " 'ROHIT_SHARMA',\n",
              " 'dhoni',\n",
              " 'Sachin_Tendulka',\n",
              " 'suresh_raina',\n",
              " 'brad_pitt',\n",
              " 'bhuvan_bam',\n",
              " 'messi',\n",
              " 'virat_kohli',\n",
              " 'arnold_schwarzenegger',\n",
              " 'Kunal_Nayya',\n",
              " 'Matt_LeBlanc']"
            ]
          },
          "metadata": {},
          "execution_count": 7
        }
      ]
    },
    {
      "cell_type": "code",
      "source": [
        "index_2_name={}\n",
        "name_2_index={}"
      ],
      "metadata": {
        "id": "Wj2-gxypkR1W"
      },
      "execution_count": 8,
      "outputs": []
    },
    {
      "cell_type": "code",
      "source": [
        "image_array=[]  # it's a list later i will convert it to array\n",
        "label_array=[]\n",
        "path=\"/content/input/face-recognition-30/dataset/dataset/\"\n",
        "# loop through each sub-folder in train\n",
        "for i in range(len(files)):\n",
        "    # files in sub-folder\n",
        "    file_sub=os.listdir(path+files[i])\n",
        "    index_2_name[i]=files[i]\n",
        "    name_2_index[files[i]]=i\n",
        "\n",
        "    for k in tqdm(range(len(file_sub))):\n",
        "        try:\n",
        "            img=cv2.imread(path+files[i]+\"/\"+file_sub[k])\n",
        "            img=cv2.cvtColor(img,cv2.COLOR_BGR2RGB)\n",
        "            img=cv2.resize(img,(96,96))\n",
        "            image_array.append(img)\n",
        "            label_array.append(i)\n",
        "        except:\n",
        "            pass"
      ],
      "metadata": {
        "colab": {
          "base_uri": "https://localhost:8080/"
        },
        "id": "Oe1qtFUekR9e",
        "outputId": "54a5eaee-0797-440a-8949-cd6bd7797cac"
      },
      "execution_count": 9,
      "outputs": [
        {
          "output_type": "stream",
          "name": "stderr",
          "text": [
            "100%|██████████| 508/508 [00:03<00:00, 130.92it/s]\n",
            "100%|██████████| 702/702 [00:03<00:00, 185.35it/s]\n",
            "100%|██████████| 639/639 [00:02<00:00, 311.81it/s]\n",
            "100%|██████████| 711/711 [00:01<00:00, 362.57it/s]\n",
            "100%|██████████| 292/292 [00:00<00:00, 895.47it/s]\n",
            "100%|██████████| 457/457 [00:00<00:00, 885.42it/s]\n",
            "100%|██████████| 639/639 [00:01<00:00, 477.47it/s]\n",
            "100%|██████████| 465/465 [00:01<00:00, 239.23it/s]\n",
            "100%|██████████| 537/537 [00:01<00:00, 321.72it/s]\n",
            "100%|██████████| 2250/2250 [00:02<00:00, 896.93it/s]\n",
            "100%|██████████| 507/507 [00:02<00:00, 230.30it/s]\n",
            "100%|██████████| 480/480 [00:01<00:00, 407.28it/s]\n",
            "100%|██████████| 338/338 [00:00<00:00, 446.25it/s]\n",
            "100%|██████████| 640/640 [00:02<00:00, 298.85it/s]\n",
            "100%|██████████| 418/418 [00:00<00:00, 527.10it/s]\n",
            "100%|██████████| 484/484 [00:01<00:00, 440.86it/s]\n",
            "100%|██████████| 530/530 [00:01<00:00, 432.70it/s]\n",
            "100%|██████████| 354/354 [00:00<00:00, 701.53it/s]\n",
            "100%|██████████| 395/395 [00:00<00:00, 525.78it/s]\n",
            "100%|██████████| 265/265 [00:00<00:00, 1092.50it/s]\n",
            "100%|██████████| 314/314 [00:00<00:00, 949.11it/s]\n",
            "100%|██████████| 354/354 [00:00<00:00, 537.99it/s]\n",
            "100%|██████████| 319/319 [00:00<00:00, 1350.74it/s]\n",
            "100%|██████████| 552/552 [00:01<00:00, 297.45it/s]\n",
            "100%|██████████| 382/382 [00:00<00:00, 866.75it/s]\n",
            "100%|██████████| 432/432 [00:00<00:00, 675.67it/s]\n",
            "100%|██████████| 391/391 [00:00<00:00, 499.58it/s]\n",
            "100%|██████████| 553/553 [00:01<00:00, 399.57it/s]\n",
            "100%|██████████| 532/532 [00:00<00:00, 648.58it/s]\n",
            "100%|██████████| 449/449 [00:01<00:00, 382.35it/s]\n"
          ]
        }
      ]
    },
    {
      "cell_type": "code",
      "source": [
        "print(index_2_name)\n",
        "print()\n",
        "print(name_2_index)"
      ],
      "metadata": {
        "colab": {
          "base_uri": "https://localhost:8080/"
        },
        "id": "v83ERTPWkSGI",
        "outputId": "9fc070a6-f1ec-49b1-d78e-2d16d2b508e6"
      },
      "execution_count": 10,
      "outputs": [
        {
          "output_type": "stream",
          "name": "stdout",
          "text": [
            "{0: 'Johnny_Galeck', 1: 'Courteney_Cox', 2: 'Jennifer_Aniston', 3: 'aishwarya_rai', 4: 'hardik_pandya', 5: 'manoj_bajpayee', 6: 'Jim_Parsons', 7: 'angelina_jolie', 8: 'David_Schwimmer', 9: 'random_person', 10: 'scarlett_johansson', 11: 'sylvester_stallone', 12: 'mohamed_ali', 13: 'Lisa_Kudrow', 14: 'ronaldo', 15: 'Simon_Helberg', 16: 'Matthew_Perry', 17: 'Pankaj_Tripathi', 18: 'pewdiepie', 19: 'ROHIT_SHARMA', 20: 'dhoni', 21: 'Sachin_Tendulka', 22: 'suresh_raina', 23: 'brad_pitt', 24: 'bhuvan_bam', 25: 'messi', 26: 'virat_kohli', 27: 'arnold_schwarzenegger', 28: 'Kunal_Nayya', 29: 'Matt_LeBlanc'}\n",
            "\n",
            "{'Johnny_Galeck': 0, 'Courteney_Cox': 1, 'Jennifer_Aniston': 2, 'aishwarya_rai': 3, 'hardik_pandya': 4, 'manoj_bajpayee': 5, 'Jim_Parsons': 6, 'angelina_jolie': 7, 'David_Schwimmer': 8, 'random_person': 9, 'scarlett_johansson': 10, 'sylvester_stallone': 11, 'mohamed_ali': 12, 'Lisa_Kudrow': 13, 'ronaldo': 14, 'Simon_Helberg': 15, 'Matthew_Perry': 16, 'Pankaj_Tripathi': 17, 'pewdiepie': 18, 'ROHIT_SHARMA': 19, 'dhoni': 20, 'Sachin_Tendulka': 21, 'suresh_raina': 22, 'brad_pitt': 23, 'bhuvan_bam': 24, 'messi': 25, 'virat_kohli': 26, 'arnold_schwarzenegger': 27, 'Kunal_Nayya': 28, 'Matt_LeBlanc': 29}\n"
          ]
        }
      ]
    },
    {
      "cell_type": "code",
      "source": [
        "import gc\n",
        "gc.collect()"
      ],
      "metadata": {
        "colab": {
          "base_uri": "https://localhost:8080/"
        },
        "id": "pMtBjcmIkSN7",
        "outputId": "791ee0fc-a644-4ca8-a1bf-f8871ae77550"
      },
      "execution_count": 11,
      "outputs": [
        {
          "output_type": "execute_result",
          "data": {
            "text/plain": [
              "100"
            ]
          },
          "metadata": {},
          "execution_count": 11
        }
      ]
    },
    {
      "cell_type": "code",
      "source": [
        "image_array=np.array(image_array)/255.0\n",
        "label_array=np.array(label_array)"
      ],
      "metadata": {
        "id": "ZCeeyPZ0mrQ_"
      },
      "execution_count": 12,
      "outputs": []
    },
    {
      "cell_type": "code",
      "source": [
        "from sklearn.model_selection import train_test_split\n",
        "X_train,X_test,Y_train,Y_test=train_test_split(image_array,label_array,test_size=0.15)\n"
      ],
      "metadata": {
        "id": "A31sI5cDkSVT"
      },
      "execution_count": 13,
      "outputs": []
    },
    {
      "cell_type": "code",
      "source": [
        "from keras import layers,callbacks,utils,applications,optimizers\n",
        "from keras.models import Sequential,Model,load_model"
      ],
      "metadata": {
        "id": "EfqvNL0CkSck"
      },
      "execution_count": 14,
      "outputs": []
    },
    {
      "cell_type": "code",
      "source": [
        "import tensorflow as tf\n",
        "import keras\n",
        "from tensorflow.keras.preprocessing import image_dataset_from_directory\n",
        "from keras.preprocessing.image import ImageDataGenerator\n",
        "# from keras.applications import MobileNet\n",
        "from keras.applications.mobilenet import preprocess_input"
      ],
      "metadata": {
        "id": "Wnfm3znKmBZd"
      },
      "execution_count": 15,
      "outputs": []
    },
    {
      "cell_type": "code",
      "source": [
        "from tensorflow.keras.applications.resnet50 import ResNet50\n",
        "\n",
        "from tensorflow.keras.applications.mobilenet_v2 import MobileNetV2"
      ],
      "metadata": {
        "id": "WuCq6hvSmBW1"
      },
      "execution_count": 16,
      "outputs": []
    },
    {
      "cell_type": "code",
      "source": [
        "model=Sequential()\n",
        "# I will use MobileNetV2 as an pretrained model \n",
        "pretrained_model=MobileNetV2(input_shape=(96,96,3),include_top=False,\n",
        "                                         weights=\"imagenet\")\n",
        "model.add(pretrained_model)\n",
        "model.add(layers.GlobalAveragePooling2D())\n",
        "# add dropout to increase accuracy by not overfitting\n",
        "model.add(layers.Dropout(0.3))\n",
        "# add dense layer as final output\n",
        "model.add(layers.Dense(1))\n",
        "model.summary()"
      ],
      "metadata": {
        "colab": {
          "base_uri": "https://localhost:8080/"
        },
        "id": "_ByNh55QmBUA",
        "outputId": "21737ffd-f708-4974-819c-50acef6d5862"
      },
      "execution_count": 17,
      "outputs": [
        {
          "output_type": "stream",
          "name": "stdout",
          "text": [
            "Model: \"sequential\"\n",
            "_________________________________________________________________\n",
            " Layer (type)                Output Shape              Param #   \n",
            "=================================================================\n",
            " mobilenetv2_1.00_96 (Functi  (None, 3, 3, 1280)       2257984   \n",
            " onal)                                                           \n",
            "                                                                 \n",
            " global_average_pooling2d (G  (None, 1280)             0         \n",
            " lobalAveragePooling2D)                                          \n",
            "                                                                 \n",
            " dropout (Dropout)           (None, 1280)              0         \n",
            "                                                                 \n",
            " dense (Dense)               (None, 1)                 1281      \n",
            "                                                                 \n",
            "=================================================================\n",
            "Total params: 2,259,265\n",
            "Trainable params: 2,225,153\n",
            "Non-trainable params: 34,112\n",
            "_________________________________________________________________\n"
          ]
        }
      ]
    },
    {
      "cell_type": "code",
      "source": [
        "model.compile(optimizer=\"adam\",loss=\"mean_squared_error\",metrics=[\"mae\"])\n"
      ],
      "metadata": {
        "id": "7SDrCigLmBOs"
      },
      "execution_count": 18,
      "outputs": []
    },
    {
      "cell_type": "code",
      "source": [
        "ckp_path=\"trained_model/model\"\n",
        "model_checkpoint=tf.keras.callbacks.ModelCheckpoint(filepath=ckp_path,\n",
        "                                                   monitor=\"val_mae\",\n",
        "                                                   mode=\"auto\",\n",
        "                                                   save_best_only=True,\n",
        "                                                   save_weights_only=True)"
      ],
      "metadata": {
        "id": "mcG2RR58mBL2"
      },
      "execution_count": 19,
      "outputs": []
    },
    {
      "cell_type": "code",
      "source": [
        "# create a lr reducer which decrease learning rate when accuarcy does not increase\n",
        "reduce_lr=tf.keras.callbacks.ReduceLROnPlateau(factor=0.9,monitor=\"val_mae\",\n",
        "                                             mode=\"auto\",cooldown=0,\n",
        "                                             patience=5,verbose=1,min_lr=1e-6)\n",
        "# patience : wait till 5 epoch\n",
        "# verbose : show accuracy every 1 epoch\n",
        "# min_lr=minimum learning rate"
      ],
      "metadata": {
        "id": "rsYb0u3UmBJk"
      },
      "execution_count": 20,
      "outputs": []
    },
    {
      "cell_type": "code",
      "source": [
        "EPOCHS=150\n",
        "BATCH_SIZE=64\n",
        "\n",
        "history=model.fit(X_train,\n",
        "                 Y_train,\n",
        "                 validation_data=(X_test,Y_test),\n",
        "                 batch_size=BATCH_SIZE,\n",
        "                 epochs=EPOCHS,\n",
        "                 callbacks=[model_checkpoint,reduce_lr],\n",
        "                  steps_per_epoch=128\n",
        "                  \n",
        "\n",
        "                 )"
      ],
      "metadata": {
        "colab": {
          "base_uri": "https://localhost:8080/"
        },
        "id": "fE3PBmNLmBHK",
        "outputId": "5186d7ef-7d1b-419a-a479-79e364efd802"
      },
      "execution_count": 21,
      "outputs": [
        {
          "output_type": "stream",
          "name": "stdout",
          "text": [
            "Epoch 1/150\n",
            "128/128 [==============================] - 28s 97ms/step - loss: 46.7098 - mae: 5.0265 - val_loss: 361.7767 - val_mae: 17.8070 - lr: 0.0010\n",
            "Epoch 2/150\n",
            "128/128 [==============================] - 11s 89ms/step - loss: 19.4089 - mae: 3.1608 - val_loss: 256.0992 - val_mae: 14.6648 - lr: 0.0010\n",
            "Epoch 3/150\n",
            "128/128 [==============================] - 11s 84ms/step - loss: 14.9120 - mae: 2.7004 - val_loss: 218.0982 - val_mae: 13.3380 - lr: 0.0010\n",
            "Epoch 4/150\n",
            "128/128 [==============================] - 10s 81ms/step - loss: 11.5581 - mae: 2.3046 - val_loss: 444.4761 - val_mae: 19.8673 - lr: 0.0010\n",
            "Epoch 5/150\n",
            "128/128 [==============================] - 11s 85ms/step - loss: 9.6182 - mae: 2.0842 - val_loss: 111.9601 - val_mae: 9.0303 - lr: 0.0010\n",
            "Epoch 6/150\n",
            "128/128 [==============================] - 11s 87ms/step - loss: 8.0649 - mae: 1.9066 - val_loss: 160.5097 - val_mae: 11.4594 - lr: 0.0010\n",
            "Epoch 7/150\n",
            "128/128 [==============================] - 11s 82ms/step - loss: 8.4344 - mae: 1.9261 - val_loss: 258.0797 - val_mae: 14.0579 - lr: 0.0010\n",
            "Epoch 8/150\n",
            "128/128 [==============================] - 11s 85ms/step - loss: 7.9719 - mae: 1.8418 - val_loss: 61.6600 - val_mae: 6.3598 - lr: 0.0010\n",
            "Epoch 9/150\n",
            "128/128 [==============================] - 10s 82ms/step - loss: 6.5842 - mae: 1.6762 - val_loss: 169.0220 - val_mae: 11.2749 - lr: 0.0010\n",
            "Epoch 10/150\n",
            "128/128 [==============================] - 10s 82ms/step - loss: 6.5912 - mae: 1.6424 - val_loss: 114.8635 - val_mae: 8.8093 - lr: 0.0010\n",
            "Epoch 11/150\n",
            "128/128 [==============================] - 11s 83ms/step - loss: 5.5606 - mae: 1.5445 - val_loss: 101.3267 - val_mae: 8.0376 - lr: 0.0010\n",
            "Epoch 12/150\n",
            "128/128 [==============================] - 11s 87ms/step - loss: 8.1347 - mae: 1.8410 - val_loss: 119.7004 - val_mae: 9.7738 - lr: 0.0010\n",
            "Epoch 13/150\n",
            "128/128 [==============================] - ETA: 0s - loss: 6.4074 - mae: 1.6488\n",
            "Epoch 13: ReduceLROnPlateau reducing learning rate to 0.0009000000427477062.\n",
            "128/128 [==============================] - 11s 87ms/step - loss: 6.4074 - mae: 1.6488 - val_loss: 80.0828 - val_mae: 7.7499 - lr: 0.0010\n",
            "Epoch 14/150\n",
            "128/128 [==============================] - 11s 85ms/step - loss: 4.8776 - mae: 1.4226 - val_loss: 55.3926 - val_mae: 6.0141 - lr: 9.0000e-04\n",
            "Epoch 15/150\n",
            "128/128 [==============================] - 11s 87ms/step - loss: 4.2613 - mae: 1.2993 - val_loss: 62.2044 - val_mae: 6.1042 - lr: 9.0000e-04\n",
            "Epoch 16/150\n",
            "128/128 [==============================] - 11s 83ms/step - loss: 3.5349 - mae: 1.2073 - val_loss: 56.9112 - val_mae: 6.3742 - lr: 9.0000e-04\n",
            "Epoch 17/150\n",
            "128/128 [==============================] - 11s 85ms/step - loss: 3.0094 - mae: 1.0979 - val_loss: 46.5479 - val_mae: 5.0976 - lr: 9.0000e-04\n",
            "Epoch 18/150\n",
            "128/128 [==============================] - 11s 85ms/step - loss: 2.7441 - mae: 1.0689 - val_loss: 24.7654 - val_mae: 3.5848 - lr: 9.0000e-04\n",
            "Epoch 19/150\n",
            "128/128 [==============================] - 11s 82ms/step - loss: 2.0478 - mae: 0.9332 - val_loss: 39.6720 - val_mae: 4.4113 - lr: 9.0000e-04\n",
            "Epoch 20/150\n",
            "128/128 [==============================] - 11s 83ms/step - loss: 2.2723 - mae: 0.9631 - val_loss: 43.7014 - val_mae: 4.6114 - lr: 9.0000e-04\n",
            "Epoch 21/150\n",
            "128/128 [==============================] - 11s 87ms/step - loss: 3.9068 - mae: 1.2190 - val_loss: 51.1344 - val_mae: 5.0430 - lr: 9.0000e-04\n",
            "Epoch 22/150\n",
            "128/128 [==============================] - 11s 83ms/step - loss: 3.5946 - mae: 1.1762 - val_loss: 30.8684 - val_mae: 3.7582 - lr: 9.0000e-04\n",
            "Epoch 23/150\n",
            "128/128 [==============================] - ETA: 0s - loss: 3.8914 - mae: 1.1696\n",
            "Epoch 23: ReduceLROnPlateau reducing learning rate to 0.0008100000384729356.\n",
            "128/128 [==============================] - 11s 83ms/step - loss: 3.8914 - mae: 1.1696 - val_loss: 52.7450 - val_mae: 5.4909 - lr: 9.0000e-04\n",
            "Epoch 24/150\n",
            "128/128 [==============================] - 11s 83ms/step - loss: 6.4824 - mae: 1.5835 - val_loss: 187.0651 - val_mae: 11.5721 - lr: 8.1000e-04\n",
            "Epoch 25/150\n",
            "128/128 [==============================] - 11s 87ms/step - loss: 4.6284 - mae: 1.3408 - val_loss: 101.5938 - val_mae: 8.2395 - lr: 8.1000e-04\n",
            "Epoch 26/150\n",
            "128/128 [==============================] - 11s 84ms/step - loss: 3.9051 - mae: 1.2211 - val_loss: 63.9665 - val_mae: 6.2033 - lr: 8.1000e-04\n",
            "Epoch 27/150\n",
            "128/128 [==============================] - 11s 83ms/step - loss: 3.1024 - mae: 1.1154 - val_loss: 54.5934 - val_mae: 5.5584 - lr: 8.1000e-04\n",
            "Epoch 28/150\n",
            "128/128 [==============================] - 11s 86ms/step - loss: 2.7772 - mae: 1.0122 - val_loss: 21.5597 - val_mae: 3.0629 - lr: 8.1000e-04\n",
            "Epoch 29/150\n",
            "128/128 [==============================] - 11s 83ms/step - loss: 1.9541 - mae: 0.8854 - val_loss: 19.7318 - val_mae: 3.1271 - lr: 8.1000e-04\n",
            "Epoch 30/150\n",
            "128/128 [==============================] - 11s 87ms/step - loss: 1.8990 - mae: 0.8908 - val_loss: 19.8789 - val_mae: 2.9317 - lr: 8.1000e-04\n",
            "Epoch 31/150\n",
            "128/128 [==============================] - 11s 88ms/step - loss: 2.5682 - mae: 0.9804 - val_loss: 36.6391 - val_mae: 4.1337 - lr: 8.1000e-04\n",
            "Epoch 32/150\n",
            "128/128 [==============================] - 11s 86ms/step - loss: 1.8302 - mae: 0.8635 - val_loss: 18.6788 - val_mae: 2.7712 - lr: 8.1000e-04\n",
            "Epoch 33/150\n",
            "128/128 [==============================] - 11s 87ms/step - loss: 1.6480 - mae: 0.8065 - val_loss: 16.4402 - val_mae: 2.5086 - lr: 8.1000e-04\n",
            "Epoch 34/150\n",
            "128/128 [==============================] - 11s 83ms/step - loss: 1.5705 - mae: 0.7802 - val_loss: 21.1309 - val_mae: 2.6253 - lr: 8.1000e-04\n",
            "Epoch 35/150\n",
            "128/128 [==============================] - 11s 83ms/step - loss: 2.5842 - mae: 0.9602 - val_loss: 21.6972 - val_mae: 2.8645 - lr: 8.1000e-04\n",
            "Epoch 36/150\n",
            "128/128 [==============================] - 11s 86ms/step - loss: 2.1963 - mae: 0.9009 - val_loss: 15.5319 - val_mae: 2.4813 - lr: 8.1000e-04\n",
            "Epoch 37/150\n",
            "128/128 [==============================] - 11s 83ms/step - loss: 3.2557 - mae: 1.0868 - val_loss: 22.2855 - val_mae: 3.1028 - lr: 8.1000e-04\n",
            "Epoch 38/150\n",
            "128/128 [==============================] - 11s 84ms/step - loss: 3.6560 - mae: 1.1091 - val_loss: 33.5312 - val_mae: 3.7410 - lr: 8.1000e-04\n",
            "Epoch 39/150\n",
            "128/128 [==============================] - 11s 83ms/step - loss: 3.2789 - mae: 1.1022 - val_loss: 20.6182 - val_mae: 2.8393 - lr: 8.1000e-04\n",
            "Epoch 40/150\n",
            "128/128 [==============================] - 11s 83ms/step - loss: 4.9139 - mae: 1.2927 - val_loss: 184.7702 - val_mae: 11.2679 - lr: 8.1000e-04\n",
            "Epoch 41/150\n",
            "128/128 [==============================] - ETA: 0s - loss: 6.8841 - mae: 1.6235\n",
            "Epoch 41: ReduceLROnPlateau reducing learning rate to 0.0007290000503417104.\n",
            "128/128 [==============================] - 11s 84ms/step - loss: 6.8841 - mae: 1.6235 - val_loss: 42.7344 - val_mae: 4.7836 - lr: 8.1000e-04\n",
            "Epoch 42/150\n",
            "128/128 [==============================] - 11s 83ms/step - loss: 3.5966 - mae: 1.1564 - val_loss: 86.4677 - val_mae: 7.8494 - lr: 7.2900e-04\n",
            "Epoch 43/150\n",
            "128/128 [==============================] - 11s 83ms/step - loss: 2.1426 - mae: 0.9201 - val_loss: 28.4369 - val_mae: 4.1930 - lr: 7.2900e-04\n",
            "Epoch 44/150\n",
            "128/128 [==============================] - 11s 83ms/step - loss: 1.8631 - mae: 0.8833 - val_loss: 49.1464 - val_mae: 5.5356 - lr: 7.2900e-04\n",
            "Epoch 45/150\n",
            "128/128 [==============================] - 11s 83ms/step - loss: 6.0738 - mae: 1.4105 - val_loss: 104.7086 - val_mae: 8.5578 - lr: 7.2900e-04\n",
            "Epoch 46/150\n",
            "128/128 [==============================] - ETA: 0s - loss: 6.9559 - mae: 1.6984\n",
            "Epoch 46: ReduceLROnPlateau reducing learning rate to 0.0006561000715009868.\n",
            "128/128 [==============================] - 11s 84ms/step - loss: 6.9559 - mae: 1.6984 - val_loss: 48.1920 - val_mae: 5.4396 - lr: 7.2900e-04\n",
            "Epoch 47/150\n",
            "128/128 [==============================] - 11s 83ms/step - loss: 3.8436 - mae: 1.2403 - val_loss: 24.4984 - val_mae: 3.6667 - lr: 6.5610e-04\n",
            "Epoch 48/150\n",
            "128/128 [==============================] - 11s 84ms/step - loss: 2.5274 - mae: 1.0191 - val_loss: 26.8234 - val_mae: 3.7183 - lr: 6.5610e-04\n",
            "Epoch 49/150\n",
            "128/128 [==============================] - 11s 83ms/step - loss: 1.8177 - mae: 0.8719 - val_loss: 27.4617 - val_mae: 3.7708 - lr: 6.5610e-04\n",
            "Epoch 50/150\n",
            "128/128 [==============================] - 11s 83ms/step - loss: 1.5275 - mae: 0.7966 - val_loss: 18.8457 - val_mae: 2.8825 - lr: 6.5610e-04\n",
            "Epoch 51/150\n",
            "128/128 [==============================] - 11s 87ms/step - loss: 1.1356 - mae: 0.7153 - val_loss: 14.3524 - val_mae: 2.3130 - lr: 6.5610e-04\n",
            "Epoch 52/150\n",
            "128/128 [==============================] - 11s 83ms/step - loss: 1.1068 - mae: 0.6918 - val_loss: 14.9828 - val_mae: 2.4380 - lr: 6.5610e-04\n",
            "Epoch 53/150\n",
            "128/128 [==============================] - 11s 85ms/step - loss: 0.9331 - mae: 0.6364 - val_loss: 11.0493 - val_mae: 1.8559 - lr: 6.5610e-04\n",
            "Epoch 54/150\n",
            "128/128 [==============================] - 11s 87ms/step - loss: 0.9107 - mae: 0.6239 - val_loss: 10.0832 - val_mae: 1.7026 - lr: 6.5610e-04\n",
            "Epoch 55/150\n",
            "128/128 [==============================] - 11s 86ms/step - loss: 0.8384 - mae: 0.6267 - val_loss: 10.7405 - val_mae: 1.6615 - lr: 6.5610e-04\n",
            "Epoch 56/150\n",
            "128/128 [==============================] - 11s 86ms/step - loss: 0.8539 - mae: 0.6061 - val_loss: 9.1395 - val_mae: 1.4809 - lr: 6.5610e-04\n",
            "Epoch 57/150\n",
            "128/128 [==============================] - 11s 83ms/step - loss: 3.6423 - mae: 1.0954 - val_loss: 15.9470 - val_mae: 2.5030 - lr: 6.5610e-04\n",
            "Epoch 58/150\n",
            "128/128 [==============================] - 11s 83ms/step - loss: 2.7019 - mae: 0.9791 - val_loss: 31.7923 - val_mae: 3.9511 - lr: 6.5610e-04\n",
            "Epoch 59/150\n",
            "128/128 [==============================] - 11s 88ms/step - loss: 4.4038 - mae: 1.2949 - val_loss: 17.6213 - val_mae: 2.6739 - lr: 6.5610e-04\n",
            "Epoch 60/150\n",
            "128/128 [==============================] - 11s 83ms/step - loss: 2.6385 - mae: 1.0173 - val_loss: 48.8629 - val_mae: 5.0968 - lr: 6.5610e-04\n",
            "Epoch 61/150\n",
            "128/128 [==============================] - ETA: 0s - loss: 1.8267 - mae: 0.8807\n",
            "Epoch 61: ReduceLROnPlateau reducing learning rate to 0.0005904900433961303.\n",
            "128/128 [==============================] - 11s 84ms/step - loss: 1.8267 - mae: 0.8807 - val_loss: 21.9275 - val_mae: 2.7963 - lr: 6.5610e-04\n",
            "Epoch 62/150\n",
            "128/128 [==============================] - 11s 83ms/step - loss: 1.4224 - mae: 0.7748 - val_loss: 29.5514 - val_mae: 3.5644 - lr: 5.9049e-04\n",
            "Epoch 63/150\n",
            "128/128 [==============================] - 11s 84ms/step - loss: 1.2859 - mae: 0.7363 - val_loss: 17.8969 - val_mae: 2.8379 - lr: 5.9049e-04\n",
            "Epoch 64/150\n",
            "128/128 [==============================] - 11s 84ms/step - loss: 1.8561 - mae: 0.8949 - val_loss: 20.7318 - val_mae: 2.8062 - lr: 5.9049e-04\n",
            "Epoch 65/150\n",
            "128/128 [==============================] - 11s 84ms/step - loss: 1.5225 - mae: 0.7893 - val_loss: 13.5073 - val_mae: 2.1342 - lr: 5.9049e-04\n",
            "Epoch 66/150\n",
            "128/128 [==============================] - ETA: 0s - loss: 1.1558 - mae: 0.7045\n",
            "Epoch 66: ReduceLROnPlateau reducing learning rate to 0.0005314410547725857.\n",
            "128/128 [==============================] - 11s 84ms/step - loss: 1.1558 - mae: 0.7045 - val_loss: 12.0038 - val_mae: 1.8285 - lr: 5.9049e-04\n",
            "Epoch 67/150\n",
            "128/128 [==============================] - 11s 84ms/step - loss: 0.9394 - mae: 0.6472 - val_loss: 10.7043 - val_mae: 1.7278 - lr: 5.3144e-04\n",
            "Epoch 68/150\n",
            "128/128 [==============================] - 11s 83ms/step - loss: 0.9816 - mae: 0.6347 - val_loss: 14.8459 - val_mae: 2.2291 - lr: 5.3144e-04\n",
            "Epoch 69/150\n",
            "128/128 [==============================] - 11s 84ms/step - loss: 1.2352 - mae: 0.7114 - val_loss: 10.3515 - val_mae: 1.5353 - lr: 5.3144e-04\n",
            "Epoch 70/150\n",
            "128/128 [==============================] - 12s 90ms/step - loss: 0.8151 - mae: 0.6051 - val_loss: 8.9968 - val_mae: 1.3635 - lr: 5.3144e-04\n",
            "Epoch 71/150\n",
            "128/128 [==============================] - 11s 84ms/step - loss: 0.7696 - mae: 0.5758 - val_loss: 9.3059 - val_mae: 1.3681 - lr: 5.3144e-04\n",
            "Epoch 72/150\n",
            "128/128 [==============================] - 11s 86ms/step - loss: 0.7389 - mae: 0.5772 - val_loss: 9.3656 - val_mae: 1.3403 - lr: 5.3144e-04\n",
            "Epoch 73/150\n",
            "128/128 [==============================] - 11s 83ms/step - loss: 0.7123 - mae: 0.5556 - val_loss: 9.8777 - val_mae: 1.6206 - lr: 5.3144e-04\n",
            "Epoch 74/150\n",
            "128/128 [==============================] - 11s 87ms/step - loss: 0.6315 - mae: 0.5415 - val_loss: 8.6418 - val_mae: 1.3342 - lr: 5.3144e-04\n",
            "Epoch 75/150\n",
            "128/128 [==============================] - 11s 83ms/step - loss: 1.0019 - mae: 0.6459 - val_loss: 14.2868 - val_mae: 2.2477 - lr: 5.3144e-04\n",
            "Epoch 76/150\n",
            "128/128 [==============================] - 11s 84ms/step - loss: 1.2115 - mae: 0.6851 - val_loss: 10.8460 - val_mae: 1.7678 - lr: 5.3144e-04\n",
            "Epoch 77/150\n",
            "128/128 [==============================] - 11s 83ms/step - loss: 1.0540 - mae: 0.6446 - val_loss: 12.6150 - val_mae: 1.6444 - lr: 5.3144e-04\n",
            "Epoch 78/150\n",
            "128/128 [==============================] - 11s 83ms/step - loss: 0.9251 - mae: 0.6279 - val_loss: 10.0528 - val_mae: 1.7070 - lr: 5.3144e-04\n",
            "Epoch 79/150\n",
            "128/128 [==============================] - ETA: 0s - loss: 0.8944 - mae: 0.6119\n",
            "Epoch 79: ReduceLROnPlateau reducing learning rate to 0.00047829695977270604.\n",
            "128/128 [==============================] - 11s 84ms/step - loss: 0.8944 - mae: 0.6119 - val_loss: 9.3893 - val_mae: 1.4765 - lr: 5.3144e-04\n",
            "Epoch 80/150\n",
            "128/128 [==============================] - 11s 83ms/step - loss: 1.5146 - mae: 0.7291 - val_loss: 11.7804 - val_mae: 1.8733 - lr: 4.7830e-04\n",
            "Epoch 81/150\n",
            "128/128 [==============================] - 11s 84ms/step - loss: 1.4638 - mae: 0.7133 - val_loss: 13.0550 - val_mae: 1.8666 - lr: 4.7830e-04\n",
            "Epoch 82/150\n",
            "128/128 [==============================] - 11s 84ms/step - loss: 1.2605 - mae: 0.6956 - val_loss: 12.8185 - val_mae: 1.8827 - lr: 4.7830e-04\n",
            "Epoch 83/150\n",
            "128/128 [==============================] - 10s 81ms/step - loss: 1.4780 - mae: 0.6930 - val_loss: 29.3474 - val_mae: 3.2184 - lr: 4.7830e-04\n",
            "Epoch 84/150\n",
            "128/128 [==============================] - ETA: 0s - loss: 1.9294 - mae: 0.7987\n",
            "Epoch 84: ReduceLROnPlateau reducing learning rate to 0.0004304672533180565.\n",
            "128/128 [==============================] - 11s 83ms/step - loss: 1.9294 - mae: 0.7987 - val_loss: 15.3147 - val_mae: 1.9832 - lr: 4.7830e-04\n",
            "Epoch 85/150\n",
            "128/128 [==============================] - 11s 83ms/step - loss: 1.0608 - mae: 0.6354 - val_loss: 13.2829 - val_mae: 1.6487 - lr: 4.3047e-04\n",
            "Epoch 86/150\n",
            "128/128 [==============================] - 11s 89ms/step - loss: 0.7748 - mae: 0.5676 - val_loss: 11.9097 - val_mae: 1.4697 - lr: 4.3047e-04\n",
            "Epoch 87/150\n",
            "128/128 [==============================] - 11s 83ms/step - loss: 0.6960 - mae: 0.5378 - val_loss: 11.0950 - val_mae: 1.4442 - lr: 4.3047e-04\n",
            "Epoch 88/150\n",
            "128/128 [==============================] - 11s 83ms/step - loss: 0.6653 - mae: 0.5403 - val_loss: 10.6741 - val_mae: 1.3879 - lr: 4.3047e-04\n",
            "Epoch 89/150\n",
            "128/128 [==============================] - ETA: 0s - loss: 0.5376 - mae: 0.4983\n",
            "Epoch 89: ReduceLROnPlateau reducing learning rate to 0.00038742052274756136.\n",
            "128/128 [==============================] - 11s 84ms/step - loss: 0.5376 - mae: 0.4983 - val_loss: 10.9466 - val_mae: 1.4121 - lr: 4.3047e-04\n",
            "Epoch 90/150\n",
            "128/128 [==============================] - 11s 83ms/step - loss: 0.8379 - mae: 0.5907 - val_loss: 11.2643 - val_mae: 1.6082 - lr: 3.8742e-04\n",
            "Epoch 91/150\n",
            "128/128 [==============================] - 11s 87ms/step - loss: 0.7290 - mae: 0.5449 - val_loss: 9.4713 - val_mae: 1.3069 - lr: 3.8742e-04\n",
            "Epoch 92/150\n",
            "128/128 [==============================] - 11s 84ms/step - loss: 0.5891 - mae: 0.5062 - val_loss: 10.2802 - val_mae: 1.4047 - lr: 3.8742e-04\n",
            "Epoch 93/150\n",
            "128/128 [==============================] - 11s 83ms/step - loss: 0.6466 - mae: 0.5073 - val_loss: 10.3637 - val_mae: 1.3765 - lr: 3.8742e-04\n",
            "Epoch 94/150\n",
            "128/128 [==============================] - 11s 87ms/step - loss: 0.5934 - mae: 0.5070 - val_loss: 9.5542 - val_mae: 1.2794 - lr: 3.8742e-04\n",
            "Epoch 95/150\n",
            "128/128 [==============================] - 11s 83ms/step - loss: 0.6331 - mae: 0.5395 - val_loss: 9.7655 - val_mae: 1.3386 - lr: 3.8742e-04\n",
            "Epoch 96/150\n",
            "128/128 [==============================] - 12s 92ms/step - loss: 0.4914 - mae: 0.4883 - val_loss: 8.5118 - val_mae: 1.1421 - lr: 3.8742e-04\n",
            "Epoch 97/150\n",
            "128/128 [==============================] - 11s 88ms/step - loss: 0.8242 - mae: 0.5733 - val_loss: 11.3462 - val_mae: 1.5693 - lr: 3.8742e-04\n",
            "Epoch 98/150\n",
            "128/128 [==============================] - 11s 83ms/step - loss: 0.7804 - mae: 0.5546 - val_loss: 12.1230 - val_mae: 1.8582 - lr: 3.8742e-04\n",
            "Epoch 99/150\n",
            "128/128 [==============================] - 11s 85ms/step - loss: 0.5991 - mae: 0.5151 - val_loss: 10.9996 - val_mae: 1.6366 - lr: 3.8742e-04\n",
            "Epoch 100/150\n",
            "128/128 [==============================] - 11s 84ms/step - loss: 0.6721 - mae: 0.5359 - val_loss: 10.5209 - val_mae: 1.6379 - lr: 3.8742e-04\n",
            "Epoch 101/150\n",
            "128/128 [==============================] - ETA: 0s - loss: 0.5424 - mae: 0.4901\n",
            "Epoch 101: ReduceLROnPlateau reducing learning rate to 0.0003486784757114947.\n",
            "128/128 [==============================] - 11s 84ms/step - loss: 0.5424 - mae: 0.4901 - val_loss: 9.3127 - val_mae: 1.3925 - lr: 3.8742e-04\n",
            "Epoch 102/150\n",
            "128/128 [==============================] - 11s 84ms/step - loss: 1.6740 - mae: 0.7427 - val_loss: 16.1661 - val_mae: 2.0069 - lr: 3.4868e-04\n",
            "Epoch 103/150\n",
            "128/128 [==============================] - 11s 88ms/step - loss: 1.0670 - mae: 0.6325 - val_loss: 15.0496 - val_mae: 2.0613 - lr: 3.4868e-04\n",
            "Epoch 104/150\n",
            "128/128 [==============================] - 11s 84ms/step - loss: 0.6680 - mae: 0.5388 - val_loss: 11.8864 - val_mae: 1.6416 - lr: 3.4868e-04\n",
            "Epoch 105/150\n",
            "128/128 [==============================] - 11s 84ms/step - loss: 0.5819 - mae: 0.5055 - val_loss: 11.4095 - val_mae: 1.5272 - lr: 3.4868e-04\n",
            "Epoch 106/150\n",
            "127/128 [============================>.] - ETA: 0s - loss: 0.5202 - mae: 0.4808\n",
            "Epoch 106: ReduceLROnPlateau reducing learning rate to 0.00031381062290165574.\n",
            "128/128 [==============================] - 11s 89ms/step - loss: 0.5226 - mae: 0.4812 - val_loss: 10.6165 - val_mae: 1.3663 - lr: 3.4868e-04\n",
            "Epoch 107/150\n",
            "128/128 [==============================] - 11s 85ms/step - loss: 0.5314 - mae: 0.4958 - val_loss: 9.7243 - val_mae: 1.3288 - lr: 3.1381e-04\n",
            "Epoch 108/150\n",
            "128/128 [==============================] - 11s 85ms/step - loss: 0.7683 - mae: 0.5597 - val_loss: 12.8306 - val_mae: 1.7911 - lr: 3.1381e-04\n",
            "Epoch 109/150\n",
            "128/128 [==============================] - 11s 87ms/step - loss: 0.6764 - mae: 0.5394 - val_loss: 10.2478 - val_mae: 1.4343 - lr: 3.1381e-04\n",
            "Epoch 110/150\n",
            "128/128 [==============================] - 11s 85ms/step - loss: 1.1101 - mae: 0.6359 - val_loss: 14.7269 - val_mae: 1.9689 - lr: 3.1381e-04\n",
            "Epoch 111/150\n",
            "128/128 [==============================] - ETA: 0s - loss: 0.6953 - mae: 0.5355\n",
            "Epoch 111: ReduceLROnPlateau reducing learning rate to 0.0002824295632308349.\n",
            "128/128 [==============================] - 11s 85ms/step - loss: 0.6953 - mae: 0.5355 - val_loss: 12.3156 - val_mae: 1.6295 - lr: 3.1381e-04\n",
            "Epoch 112/150\n",
            "128/128 [==============================] - 11s 85ms/step - loss: 0.5917 - mae: 0.4983 - val_loss: 11.1077 - val_mae: 1.4083 - lr: 2.8243e-04\n",
            "Epoch 113/150\n",
            "128/128 [==============================] - 11s 88ms/step - loss: 0.4995 - mae: 0.4731 - val_loss: 10.3585 - val_mae: 1.3214 - lr: 2.8243e-04\n",
            "Epoch 114/150\n",
            "128/128 [==============================] - 11s 85ms/step - loss: 0.4458 - mae: 0.4548 - val_loss: 9.8441 - val_mae: 1.2595 - lr: 2.8243e-04\n",
            "Epoch 115/150\n",
            "128/128 [==============================] - 11s 85ms/step - loss: 0.4290 - mae: 0.4495 - val_loss: 9.3023 - val_mae: 1.1764 - lr: 2.8243e-04\n",
            "Epoch 116/150\n",
            "128/128 [==============================] - ETA: 0s - loss: 0.4463 - mae: 0.4436\n",
            "Epoch 116: ReduceLROnPlateau reducing learning rate to 0.00025418660952709616.\n",
            "128/128 [==============================] - 11s 89ms/step - loss: 0.4463 - mae: 0.4436 - val_loss: 11.8831 - val_mae: 1.4989 - lr: 2.8243e-04\n",
            "Epoch 117/150\n",
            "128/128 [==============================] - 11s 86ms/step - loss: 0.6230 - mae: 0.5044 - val_loss: 10.2744 - val_mae: 1.3312 - lr: 2.5419e-04\n",
            "Epoch 118/150\n",
            "128/128 [==============================] - 11s 85ms/step - loss: 1.4440 - mae: 0.6513 - val_loss: 21.4378 - val_mae: 3.0449 - lr: 2.5419e-04\n",
            "Epoch 119/150\n",
            "128/128 [==============================] - 12s 90ms/step - loss: 0.7888 - mae: 0.5675 - val_loss: 12.1546 - val_mae: 1.8156 - lr: 2.5419e-04\n",
            "Epoch 120/150\n",
            "128/128 [==============================] - 11s 85ms/step - loss: 0.5705 - mae: 0.5183 - val_loss: 11.0888 - val_mae: 1.5305 - lr: 2.5419e-04\n",
            "Epoch 121/150\n",
            "128/128 [==============================] - ETA: 0s - loss: 0.8373 - mae: 0.5309\n",
            "Epoch 121: ReduceLROnPlateau reducing learning rate to 0.00022876793809700757.\n",
            "128/128 [==============================] - 11s 85ms/step - loss: 0.8373 - mae: 0.5309 - val_loss: 34.8664 - val_mae: 3.3860 - lr: 2.5419e-04\n",
            "Epoch 122/150\n",
            "128/128 [==============================] - 11s 85ms/step - loss: 1.8962 - mae: 0.7467 - val_loss: 11.3237 - val_mae: 1.5663 - lr: 2.2877e-04\n",
            "Epoch 123/150\n",
            "128/128 [==============================] - 11s 85ms/step - loss: 0.7581 - mae: 0.5569 - val_loss: 10.1159 - val_mae: 1.3942 - lr: 2.2877e-04\n",
            "Epoch 124/150\n",
            "128/128 [==============================] - 11s 85ms/step - loss: 0.5766 - mae: 0.5004 - val_loss: 9.5830 - val_mae: 1.2594 - lr: 2.2877e-04\n",
            "Epoch 125/150\n",
            "128/128 [==============================] - 11s 85ms/step - loss: 0.4329 - mae: 0.4616 - val_loss: 9.2992 - val_mae: 1.2026 - lr: 2.2877e-04\n",
            "Epoch 126/150\n",
            "128/128 [==============================] - ETA: 0s - loss: 0.4802 - mae: 0.4621\n",
            "Epoch 126: ReduceLROnPlateau reducing learning rate to 0.00020589114428730683.\n",
            "128/128 [==============================] - 11s 89ms/step - loss: 0.4802 - mae: 0.4621 - val_loss: 9.2095 - val_mae: 1.1847 - lr: 2.2877e-04\n",
            "Epoch 127/150\n",
            "128/128 [==============================] - 11s 88ms/step - loss: 0.4324 - mae: 0.4500 - val_loss: 8.7922 - val_mae: 1.1322 - lr: 2.0589e-04\n",
            "Epoch 128/150\n",
            "128/128 [==============================] - 12s 92ms/step - loss: 0.3977 - mae: 0.4392 - val_loss: 8.5141 - val_mae: 1.1033 - lr: 2.0589e-04\n",
            "Epoch 129/150\n",
            "128/128 [==============================] - 11s 88ms/step - loss: 0.4041 - mae: 0.4286 - val_loss: 8.3330 - val_mae: 1.0794 - lr: 2.0589e-04\n",
            "Epoch 130/150\n",
            "128/128 [==============================] - 11s 84ms/step - loss: 0.3973 - mae: 0.4306 - val_loss: 8.1732 - val_mae: 1.0986 - lr: 2.0589e-04\n",
            "Epoch 131/150\n",
            "128/128 [==============================] - 11s 85ms/step - loss: 0.3642 - mae: 0.4290 - val_loss: 8.4431 - val_mae: 1.0953 - lr: 2.0589e-04\n",
            "Epoch 132/150\n",
            "128/128 [==============================] - 11s 85ms/step - loss: 0.3688 - mae: 0.4229 - val_loss: 8.2920 - val_mae: 1.0939 - lr: 2.0589e-04\n",
            "Epoch 133/150\n",
            "128/128 [==============================] - 12s 92ms/step - loss: 0.3786 - mae: 0.4154 - val_loss: 8.3209 - val_mae: 1.0609 - lr: 2.0589e-04\n",
            "Epoch 134/150\n",
            "128/128 [==============================] - 11s 85ms/step - loss: 0.3315 - mae: 0.4024 - val_loss: 8.1663 - val_mae: 1.0615 - lr: 2.0589e-04\n",
            "Epoch 135/150\n",
            "128/128 [==============================] - 11s 87ms/step - loss: 0.3409 - mae: 0.4091 - val_loss: 8.1319 - val_mae: 1.0487 - lr: 2.0589e-04\n",
            "Epoch 136/150\n",
            "128/128 [==============================] - 11s 88ms/step - loss: 0.3492 - mae: 0.4047 - val_loss: 7.9912 - val_mae: 1.0163 - lr: 2.0589e-04\n",
            "Epoch 137/150\n",
            "128/128 [==============================] - 11s 87ms/step - loss: 0.3335 - mae: 0.4026 - val_loss: 8.0308 - val_mae: 0.9972 - lr: 2.0589e-04\n",
            "Epoch 138/150\n",
            "128/128 [==============================] - 11s 84ms/step - loss: 0.6561 - mae: 0.5113 - val_loss: 11.5503 - val_mae: 1.5446 - lr: 2.0589e-04\n",
            "Epoch 139/150\n",
            "128/128 [==============================] - 11s 89ms/step - loss: 0.4817 - mae: 0.4487 - val_loss: 10.0069 - val_mae: 1.3630 - lr: 2.0589e-04\n",
            "Epoch 140/150\n",
            "128/128 [==============================] - 11s 84ms/step - loss: 0.4059 - mae: 0.4276 - val_loss: 9.0432 - val_mae: 1.1770 - lr: 2.0589e-04\n",
            "Epoch 141/150\n",
            "128/128 [==============================] - 11s 84ms/step - loss: 0.3810 - mae: 0.4202 - val_loss: 8.7564 - val_mae: 1.1990 - lr: 2.0589e-04\n",
            "Epoch 142/150\n",
            "128/128 [==============================] - ETA: 0s - loss: 0.3784 - mae: 0.4098\n",
            "Epoch 142: ReduceLROnPlateau reducing learning rate to 0.00018530203378759326.\n",
            "128/128 [==============================] - 11s 84ms/step - loss: 0.3784 - mae: 0.4098 - val_loss: 8.4695 - val_mae: 1.0994 - lr: 2.0589e-04\n",
            "Epoch 143/150\n",
            "128/128 [==============================] - 11s 84ms/step - loss: 0.3077 - mae: 0.3920 - val_loss: 8.6339 - val_mae: 1.0693 - lr: 1.8530e-04\n",
            "Epoch 144/150\n",
            "128/128 [==============================] - 11s 85ms/step - loss: 0.3090 - mae: 0.3912 - val_loss: 8.4396 - val_mae: 1.0434 - lr: 1.8530e-04\n",
            "Epoch 145/150\n",
            "128/128 [==============================] - 11s 84ms/step - loss: 0.4764 - mae: 0.4628 - val_loss: 9.3658 - val_mae: 1.1507 - lr: 1.8530e-04\n",
            "Epoch 146/150\n",
            "128/128 [==============================] - 11s 84ms/step - loss: 0.4071 - mae: 0.4272 - val_loss: 9.4157 - val_mae: 1.2379 - lr: 1.8530e-04\n",
            "Epoch 147/150\n",
            "128/128 [==============================] - ETA: 0s - loss: 0.4023 - mae: 0.4177\n",
            "Epoch 147: ReduceLROnPlateau reducing learning rate to 0.00016677183302817866.\n",
            "128/128 [==============================] - 11s 85ms/step - loss: 0.4023 - mae: 0.4177 - val_loss: 9.1834 - val_mae: 1.1621 - lr: 1.8530e-04\n",
            "Epoch 148/150\n",
            "128/128 [==============================] - 11s 84ms/step - loss: 0.3260 - mae: 0.4020 - val_loss: 8.8262 - val_mae: 1.1173 - lr: 1.6677e-04\n",
            "Epoch 149/150\n",
            "128/128 [==============================] - 11s 84ms/step - loss: 0.3156 - mae: 0.3905 - val_loss: 8.7850 - val_mae: 1.0940 - lr: 1.6677e-04\n",
            "Epoch 150/150\n",
            "128/128 [==============================] - 11s 84ms/step - loss: 0.3566 - mae: 0.3997 - val_loss: 8.6481 - val_mae: 1.0459 - lr: 1.6677e-04\n"
          ]
        }
      ]
    },
    {
      "cell_type": "code",
      "source": [
        "prediction_val=model.predict(X_test,batch_size=64)\n",
        "prediction_val[:20]\n",
        "for ele in prediction_val[:20]:\n",
        "  print(ele[0])"
      ],
      "metadata": {
        "id": "9pMzekewmBER"
      },
      "execution_count": null,
      "outputs": []
    },
    {
      "cell_type": "code",
      "source": [
        "# import cv2\n",
        " \n",
        "# # Save image in set directory\n",
        "# # Read RGB image\n",
        "# img = cv2.imread('/content/input/face-recognition-30/dataset/dataset/Pankaj_Tripathi/1.jpg')"
      ],
      "metadata": {
        "id": "89tCtrCzmBBk"
      },
      "execution_count": 23,
      "outputs": []
    },
    {
      "cell_type": "code",
      "source": [
        "# img=cv2.cvtColor(img,cv2.COLOR_BGR2RGB)\n",
        "# img=cv2.resize(img,(96,96))\n",
        "# img=img/255.0\n",
        "# img"
      ],
      "metadata": {
        "id": "ip1jW3q9mA-t"
      },
      "execution_count": 24,
      "outputs": []
    },
    {
      "cell_type": "code",
      "source": [
        "# img.shape"
      ],
      "metadata": {
        "id": "hENZEMQTy2EI"
      },
      "execution_count": 25,
      "outputs": []
    },
    {
      "cell_type": "code",
      "source": [
        "# pred=model.predict(img)\n",
        "# print(pred)"
      ],
      "metadata": {
        "id": "6py5yR66yksb"
      },
      "execution_count": 26,
      "outputs": []
    },
    {
      "cell_type": "code",
      "source": [
        "from keras.preprocessing import image"
      ],
      "metadata": {
        "id": "3WhTQR44zPiN"
      },
      "execution_count": 27,
      "outputs": []
    },
    {
      "cell_type": "code",
      "source": [
        "img = image.load_img('/content/input/face-recognition-30/dataset/dataset/Pankaj_Tripathi/45.jpg',target_size=(96,96))\n",
        "\n",
        "x = image.img_to_array(img)\n",
        "\n",
        "x=np.expand_dims(x,axis=0)\n",
        "\n",
        "x=preprocess_input(x)"
      ],
      "metadata": {
        "id": "jDb5GiIAzG3C"
      },
      "execution_count": 57,
      "outputs": []
    },
    {
      "cell_type": "code",
      "source": [
        "pred = model.predict(x)\n",
        "pred\n",
        "num=round(pred[0][0])\n",
        "print(index_2_name[num])\n"
      ],
      "metadata": {
        "colab": {
          "base_uri": "https://localhost:8080/"
        },
        "id": "hfLYO9sgzVfP",
        "outputId": "aaf543f6-7600-4515-8fde-9605132a348d"
      },
      "execution_count": 58,
      "outputs": [
        {
          "output_type": "stream",
          "name": "stdout",
          "text": [
            "ROHIT_SHARMA\n"
          ]
        }
      ]
    },
    {
      "cell_type": "code",
      "source": [
        "!wget https://images.indianexpress.com/2021/09/Pankaj-Tripathi-1200.jpg\n"
      ],
      "metadata": {
        "colab": {
          "base_uri": "https://localhost:8080/"
        },
        "id": "_H6lpC1s8Z4N",
        "outputId": "12c5dc0e-46df-43f5-a71c-7fb1f616e8c9"
      },
      "execution_count": 42,
      "outputs": [
        {
          "output_type": "stream",
          "name": "stdout",
          "text": [
            "--2022-05-22 18:13:27--  https://images.indianexpress.com/2021/09/Pankaj-Tripathi-1200.jpg\n",
            "Resolving images.indianexpress.com (images.indianexpress.com)... 104.78.233.112\n",
            "Connecting to images.indianexpress.com (images.indianexpress.com)|104.78.233.112|:443... connected.\n",
            "HTTP request sent, awaiting response... 200 OK\n",
            "Length: 77145 (75K) [image/jpeg]\n",
            "Saving to: ‘Pankaj-Tripathi-1200.jpg’\n",
            "\n",
            "\rPankaj-Tripathi-120   0%[                    ]       0  --.-KB/s               \rPankaj-Tripathi-120 100%[===================>]  75.34K  --.-KB/s    in 0.02s   \n",
            "\n",
            "2022-05-22 18:13:27 (3.61 MB/s) - ‘Pankaj-Tripathi-1200.jpg’ saved [77145/77145]\n",
            "\n"
          ]
        }
      ]
    },
    {
      "cell_type": "code",
      "source": [
        "img = image.load_img('/content/Pankaj-Tripathi-1200.jpg',target_size=(96,96))\n",
        "\n",
        "x = image.img_to_array(img)\n",
        "\n",
        "x=np.expand_dims(x,axis=0)\n",
        "\n",
        "x=preprocess_input(x)\n",
        "pred = model.predict(x)\n",
        "# print(pred)\n",
        "pred\n",
        "# num=round(pred[0][0])\n",
        "print(index_2_name[num])"
      ],
      "metadata": {
        "colab": {
          "base_uri": "https://localhost:8080/"
        },
        "id": "TycMtSVR8mEz",
        "outputId": "d4ddbbd7-371e-4c8e-d1b0-fa181e81b00c"
      },
      "execution_count": 48,
      "outputs": [
        {
          "output_type": "stream",
          "name": "stdout",
          "text": [
            "David_Schwimmer\n"
          ]
        }
      ]
    }
  ]
}