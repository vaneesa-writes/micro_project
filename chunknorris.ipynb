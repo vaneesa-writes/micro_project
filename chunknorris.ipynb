{
 "cells": [
  {
   "cell_type": "code",
   "execution_count": 18,
   "metadata": {},
   "outputs": [],
   "source": []
  },
  {
   "cell_type": "code",
   "execution_count": 22,
   "metadata": {},
   "outputs": [
    {
     "name": "stdout",
     "output_type": "stream",
     "text": [
      "200\n",
      "On the set of Walker Texas Ranger Chuck Norris brought a dying lamb back to life by nuzzling it with his beard. As the onlookers gathered, the lamb sprang to life. Chuck Norris then roundhouse kicked it, killing it instantly. This was just to prove that the good Chuck givet\n"
     ]
    }
   ],
   "source": [
    "import requests,json\n",
    "id=int(input())\n",
    "response=requests.get(f\"http://api.icndb.com/jokes/{id}\")\n",
    "var=json.loads(response.content)\n",
    "out=\"\"\n",
    "try:\n",
    "    print(var['value']['joke'])\n",
    "    out=var['value']['joke']\n",
    "except:\n",
    "    print(\"Try another number\")\n",
    "    out=\"Try another number\"\n",
    "with open(\"chucknorrisjokes.csv\",\"a\",encoding=\"utf-8\") as chuck:\n",
    "    to_write=\",\".join([str(id),out])\n",
    "    to_write+='\\n'\n",
    "    chuck.write(to_write)"
   ]
  },
  {
   "cell_type": "code",
   "execution_count": 17,
   "metadata": {},
   "outputs": [
    {
     "name": "stdout",
     "output_type": "stream",
     "text": [
      "Try another number\n"
     ]
    }
   ],
   "source": [
    "10\n"
   ]
  }
 ],
 "metadata": {
  "kernelspec": {
   "display_name": "Python 3",
   "language": "python",
   "name": "python3"
  },
  "language_info": {
   "codemirror_mode": {
    "name": "ipython",
    "version": 3
   },
   "file_extension": ".py",
   "mimetype": "text/x-python",
   "name": "python",
   "nbconvert_exporter": "python",
   "pygments_lexer": "ipython3",
   "version": "3.8.5"
  }
 },
 "nbformat": 4,
 "nbformat_minor": 4
}
