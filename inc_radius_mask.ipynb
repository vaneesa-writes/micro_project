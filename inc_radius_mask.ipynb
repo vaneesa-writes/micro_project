{
  "nbformat": 4,
  "nbformat_minor": 0,
  "metadata": {
    "colab": {
      "provenance": []
    },
    "kernelspec": {
      "name": "python3",
      "display_name": "Python 3"
    },
    "language_info": {
      "name": "python"
    }
  },
  "cells": [
    {
      "cell_type": "code",
      "execution_count": 133,
      "metadata": {
        "id": "YnQo4xn3h6Ej"
      },
      "outputs": [],
      "source": [
        "import os,matplotlib.pyplot as plt,cv2,numpy\n",
        "from collections import deque "
      ]
    },
    {
      "cell_type": "code",
      "source": [
        "from PIL import Image, ImageFilter\n",
        "im = numpy.asarray(Image.open(\"/content/mask1.png\").convert('L')) \n",
        "\n",
        "img= im.copy()\n",
        "\n"
      ],
      "metadata": {
        "id": "dlR0GKX-iPsS"
      },
      "execution_count": 134,
      "outputs": []
    },
    {
      "cell_type": "code",
      "source": [
        "mx,my=img.shape[0],img.shape[1]\n",
        "\n",
        "vis=[[False for _ in range(my)] for _ in range(mx)]\n"
      ],
      "metadata": {
        "id": "puObEK28j7E5"
      },
      "execution_count": 135,
      "outputs": []
    },
    {
      "cell_type": "code",
      "source": [
        "def bfs(x,y,num):\n",
        "  q = deque()\n",
        "  q.append([x,y,0])\n",
        "\n",
        "  dirs1=[1,-1,0,0,1,-1,1,-1]\n",
        "  dirs2=[0,0,1,-1,-1,-1,1,1]\n",
        "\n",
        "  while(len(q)>0):\n",
        "\n",
        "    got = q.popleft()\n",
        "    # print(got)\n",
        "    x,y,c=got[0],got[1],got[2]\n",
        "    \n",
        "    for a in range(8):\n",
        "      dx=x+dirs1[a]\n",
        "      dy=y+dirs2[a]\n",
        "\n",
        "      if(dx>=0 and dx<mx and dy>=0 and dy<my and img[dx][dy]==0 and vis[dx][dy]==False):\n",
        "          vis[dx][dy]=True\n",
        "          img[dx][dy]=255\n",
        "          # print([dx,dy])\n",
        "          if(c+1<num):\n",
        "            q.append([dx,dy,c+1])\n",
        "    "
      ],
      "metadata": {
        "id": "EXQ6jIElj9Pu"
      },
      "execution_count": 136,
      "outputs": []
    },
    {
      "cell_type": "code",
      "source": [
        "\n",
        "number_of_pixels_to_increase=15\n",
        "for i in range(mx):\n",
        "  for j in range(my):\n",
        "    if(img[i][j]==255 and vis[i][j]==False):\n",
        "      bfs(i,j,number_of_pixels_to_increase)\n",
        "\n",
        "im = Image.fromarray(img)\n",
        "\n",
        "image = im.filter(ImageFilter.ModeFilter(size=13))\n",
        "image.save('new_mask1.png')\n",
        "     \n",
        "\n"
      ],
      "metadata": {
        "id": "Op1Bsxr6iPo3"
      },
      "execution_count": 137,
      "outputs": []
    },
    {
      "cell_type": "code",
      "source": [],
      "metadata": {
        "id": "sWj8Wa9EiPi8"
      },
      "execution_count": 137,
      "outputs": []
    },
    {
      "cell_type": "code",
      "source": [],
      "metadata": {
        "id": "x7WjKTYgiPgF"
      },
      "execution_count": 137,
      "outputs": []
    },
    {
      "cell_type": "code",
      "source": [],
      "metadata": {
        "id": "RTGhRI_1iPdI"
      },
      "execution_count": 137,
      "outputs": []
    },
    {
      "cell_type": "code",
      "source": [],
      "metadata": {
        "id": "OmuLDk4uiPaK"
      },
      "execution_count": 137,
      "outputs": []
    }
  ]
}